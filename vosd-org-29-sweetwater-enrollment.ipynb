{
 "metadata": {
  "name": "",
  "signature": "sha256:28d38eac4f4bd93c26e19159570fef7727a7b2b81bef9ac3d3c812c7597ed219"
 },
 "nbformat": 3,
 "nbformat_minor": 0,
 "worksheets": [
  {
   "cells": [
    {
     "cell_type": "heading",
     "level": 1,
     "metadata": {},
     "source": [
      "Sweetwater Unified School District"
     ]
    },
    {
     "cell_type": "markdown",
     "metadata": {},
     "source": [
      "This project uses data from a [Data Warehouse](http://warehouse.sandiegodata.org/voiceofsandiego.org/d756fd2e-1480-4e30-a355-5e8abe46358b/index.html) and produces these files: \n",
      "* [Transfer counts, in and out of each school]('data/transfers_in_out.csv') for (31) and (32)\n",
      "* [Requests, acceptances and denials for Transfer In]('data/requests_accepts_denials.csv') for (33), (34), (36), (37)\n"
     ]
    },
    {
     "cell_type": "code",
     "collapsed": false,
     "input": [
      "%matplotlib inline\n",
      "import numpy as np\n",
      "import matplotlib as mpl\n",
      "import pandas as pd\n",
      "from  sdipylib.url import cache_url\n",
      "fn = cache_url('http://warehouse.sandiegodata.org/voiceofsandiego.org/d756fd2e-1480-4e30-a355-5e8abe46358b/adjusted_transfers.csv')\n",
      "adj_t = pd.read_csv(fn)\n"
     ],
     "language": "python",
     "metadata": {},
     "outputs": [],
     "prompt_number": 94
    },
    {
     "cell_type": "heading",
     "level": 1,
     "metadata": {},
     "source": [
      "(31) Which school received the most requests to transfer to?"
     ]
    },
    {
     "cell_type": "markdown",
     "metadata": {},
     "source": [
      "This counts all transfer requests, regardless of wether they were approved or denied. "
     ]
    },
    {
     "cell_type": "code",
     "collapsed": false,
     "input": [
      "df = pd.DataFrame({\n",
      "    'trans_in':adj_t[['dest_name','COUNT']].groupby('dest_name').sum().COUNT,\n",
      "    'trans_out':adj_t[['origin_name','COUNT']].groupby('origin_name').sum().COUNT\n",
      "})\n",
      "\n",
      "df.fillna(0, inplace = True)\n",
      "\n",
      "df.sort('trans_in',ascending=False).head()\n"
     ],
     "language": "python",
     "metadata": {},
     "outputs": [
      {
       "html": [
        "<div style=\"max-height:1000px;max-width:1500px;overflow:auto;\">\n",
        "<table border=\"1\" class=\"dataframe\">\n",
        "  <thead>\n",
        "    <tr style=\"text-align: right;\">\n",
        "      <th></th>\n",
        "      <th>trans_in</th>\n",
        "      <th>trans_out</th>\n",
        "    </tr>\n",
        "  </thead>\n",
        "  <tbody>\n",
        "    <tr>\n",
        "      <th>Otay Ranch Senior High</th>\n",
        "      <td> 2516</td>\n",
        "      <td> 1622</td>\n",
        "    </tr>\n",
        "    <tr>\n",
        "      <th>Olympian High</th>\n",
        "      <td> 2442</td>\n",
        "      <td> 1516</td>\n",
        "    </tr>\n",
        "    <tr>\n",
        "      <th>Montgomery Senior High</th>\n",
        "      <td> 2039</td>\n",
        "      <td> 1586</td>\n",
        "    </tr>\n",
        "    <tr>\n",
        "      <th>Eastlake High</th>\n",
        "      <td> 1539</td>\n",
        "      <td>  977</td>\n",
        "    </tr>\n",
        "    <tr>\n",
        "      <th>Hilltop Middle</th>\n",
        "      <td> 1525</td>\n",
        "      <td>  809</td>\n",
        "    </tr>\n",
        "  </tbody>\n",
        "</table>\n",
        "<p>5 rows \u00d7 2 columns</p>\n",
        "</div>"
       ],
       "metadata": {},
       "output_type": "pyout",
       "prompt_number": 95,
       "text": [
        "                        trans_in  trans_out\n",
        "Otay Ranch Senior High      2516       1622\n",
        "Olympian High               2442       1516\n",
        "Montgomery Senior High      2039       1586\n",
        "Eastlake High               1539        977\n",
        "Hilltop Middle              1525        809\n",
        "\n",
        "[5 rows x 2 columns]"
       ]
      }
     ],
     "prompt_number": 95
    },
    {
     "cell_type": "heading",
     "level": 1,
     "metadata": {},
     "source": [
      "(32) Which school received the most requests to leave (via Transfer to another school)?"
     ]
    },
    {
     "cell_type": "markdown",
     "metadata": {},
     "source": [
      "This counts all transfer requests, regardless of wether they were approved or denied. "
     ]
    },
    {
     "cell_type": "code",
     "collapsed": false,
     "input": [
      "df.sort('trans_out',ascending=False).head()"
     ],
     "language": "python",
     "metadata": {},
     "outputs": [
      {
       "html": [
        "<div style=\"max-height:1000px;max-width:1500px;overflow:auto;\">\n",
        "<table border=\"1\" class=\"dataframe\">\n",
        "  <thead>\n",
        "    <tr style=\"text-align: right;\">\n",
        "      <th></th>\n",
        "      <th>trans_in</th>\n",
        "      <th>trans_out</th>\n",
        "    </tr>\n",
        "  </thead>\n",
        "  <tbody>\n",
        "    <tr>\n",
        "      <th>Castle Park Senior High</th>\n",
        "      <td>  888</td>\n",
        "      <td> 2203</td>\n",
        "    </tr>\n",
        "    <tr>\n",
        "      <th>Castle Park Middle</th>\n",
        "      <td>  375</td>\n",
        "      <td> 2050</td>\n",
        "    </tr>\n",
        "    <tr>\n",
        "      <th>Southwest Senior High</th>\n",
        "      <td> 1052</td>\n",
        "      <td> 1946</td>\n",
        "    </tr>\n",
        "    <tr>\n",
        "      <th>San Ysidro High</th>\n",
        "      <td> 1521</td>\n",
        "      <td> 1835</td>\n",
        "    </tr>\n",
        "    <tr>\n",
        "      <th>Otay Ranch Senior High</th>\n",
        "      <td> 2516</td>\n",
        "      <td> 1622</td>\n",
        "    </tr>\n",
        "  </tbody>\n",
        "</table>\n",
        "<p>5 rows \u00d7 2 columns</p>\n",
        "</div>"
       ],
       "metadata": {},
       "output_type": "pyout",
       "prompt_number": 96,
       "text": [
        "                         trans_in  trans_out\n",
        "Castle Park Senior High       888       2203\n",
        "Castle Park Middle            375       2050\n",
        "Southwest Senior High        1052       1946\n",
        "San Ysidro High              1521       1835\n",
        "Otay Ranch Senior High       2516       1622\n",
        "\n",
        "[5 rows x 2 columns]"
       ]
      }
     ],
     "prompt_number": 96
    },
    {
     "cell_type": "code",
     "collapsed": false,
     "input": [
      "df.to_csv('data/transfers_in_out.csv')"
     ],
     "language": "python",
     "metadata": {},
     "outputs": [],
     "prompt_number": 97
    },
    {
     "cell_type": "markdown",
     "metadata": {},
     "source": [
      "You can also [download the whole file as a csv]('data/transfers_in_out.csv')"
     ]
    },
    {
     "cell_type": "heading",
     "level": 1,
     "metadata": {},
     "source": [
      "(33) Which school accepted the most transfers?\n"
     ]
    },
    {
     "cell_type": "markdown",
     "metadata": {},
     "source": [
      "The remaining questions all use the same dataset, which will be sorted on different columns. You can  [download the whole file]('data/requests_accepts_denials.csv') to sort it in Excel. "
     ]
    },
    {
     "cell_type": "code",
     "collapsed": false,
     "input": [
      "all_t = (adj_t[['dest_name','COUNT']]\n",
      "           .groupby('dest_name')\n",
      "           .sum().sort('COUNT', ascending=False))\n",
      "\n",
      "accpt_t = (adj_t[['dest_name','COUNT']]\n",
      "           .loc[(adj_t.status == 'Approved') | (adj_t.status == ' Approved')] # Second one has space at start\n",
      "           .groupby('dest_name')\n",
      "           .sum().sort('COUNT', ascending=False))\n",
      "\n",
      "deny_t = (adj_t[['dest_name','COUNT']]\n",
      "           .loc[adj_t.status == 'Denied']\n",
      "           .groupby('dest_name')\n",
      "           .sum().sort('COUNT', ascending=False))\n",
      "\n",
      "df = pd.DataFrame()\n",
      "df['requests'] = all_t.COUNT\n",
      "df['approvals'] = all_t.COUNT\n",
      "df['denials'] = deny_t.COUNT\n",
      "df['approval_ratio'] = accpt_t.COUNT / all_t.COUNT\n",
      "\n",
      "df.sort('approvals', ascending=False, inplace = True)\n",
      "df.fillna(0, inplace = True)\n",
      "df.to_csv('data/requests_accepts_denials.csv')\n",
      "\n",
      "df.head()"
     ],
     "language": "python",
     "metadata": {},
     "outputs": [
      {
       "html": [
        "<div style=\"max-height:1000px;max-width:1500px;overflow:auto;\">\n",
        "<table border=\"1\" class=\"dataframe\">\n",
        "  <thead>\n",
        "    <tr style=\"text-align: right;\">\n",
        "      <th></th>\n",
        "      <th>requests</th>\n",
        "      <th>approvals</th>\n",
        "      <th>denials</th>\n",
        "      <th>approval_ratio</th>\n",
        "    </tr>\n",
        "    <tr>\n",
        "      <th>dest_name</th>\n",
        "      <th></th>\n",
        "      <th></th>\n",
        "      <th></th>\n",
        "      <th></th>\n",
        "    </tr>\n",
        "  </thead>\n",
        "  <tbody>\n",
        "    <tr>\n",
        "      <th>Otay Ranch Senior High</th>\n",
        "      <td> 2516</td>\n",
        "      <td> 2516</td>\n",
        "      <td> 103</td>\n",
        "      <td> 0.958665</td>\n",
        "    </tr>\n",
        "    <tr>\n",
        "      <th>Olympian High</th>\n",
        "      <td> 2442</td>\n",
        "      <td> 2442</td>\n",
        "      <td>  72</td>\n",
        "      <td> 0.969697</td>\n",
        "    </tr>\n",
        "    <tr>\n",
        "      <th>Montgomery Senior High</th>\n",
        "      <td> 2039</td>\n",
        "      <td> 2039</td>\n",
        "      <td>  32</td>\n",
        "      <td> 0.982344</td>\n",
        "    </tr>\n",
        "    <tr>\n",
        "      <th>Eastlake High</th>\n",
        "      <td> 1539</td>\n",
        "      <td> 1539</td>\n",
        "      <td> 144</td>\n",
        "      <td> 0.903184</td>\n",
        "    </tr>\n",
        "    <tr>\n",
        "      <th>Hilltop Middle</th>\n",
        "      <td> 1525</td>\n",
        "      <td> 1525</td>\n",
        "      <td>  90</td>\n",
        "      <td> 0.936393</td>\n",
        "    </tr>\n",
        "  </tbody>\n",
        "</table>\n",
        "<p>5 rows \u00d7 4 columns</p>\n",
        "</div>"
       ],
       "metadata": {},
       "output_type": "pyout",
       "prompt_number": 98,
       "text": [
        "                        requests  approvals  denials  approval_ratio\n",
        "dest_name                                                           \n",
        "Otay Ranch Senior High      2516       2516      103        0.958665\n",
        "Olympian High               2442       2442       72        0.969697\n",
        "Montgomery Senior High      2039       2039       32        0.982344\n",
        "Eastlake High               1539       1539      144        0.903184\n",
        "Hilltop Middle              1525       1525       90        0.936393\n",
        "\n",
        "[5 rows x 4 columns]"
       ]
      }
     ],
     "prompt_number": 98
    },
    {
     "cell_type": "heading",
     "level": 1,
     "metadata": {},
     "source": [
      "(34) Which school denied the most transfers?"
     ]
    },
    {
     "cell_type": "code",
     "collapsed": false,
     "input": [
      "df.sort('denials', ascending=False).head()"
     ],
     "language": "python",
     "metadata": {},
     "outputs": [
      {
       "html": [
        "<div style=\"max-height:1000px;max-width:1500px;overflow:auto;\">\n",
        "<table border=\"1\" class=\"dataframe\">\n",
        "  <thead>\n",
        "    <tr style=\"text-align: right;\">\n",
        "      <th></th>\n",
        "      <th>requests</th>\n",
        "      <th>approvals</th>\n",
        "      <th>denials</th>\n",
        "      <th>approval_ratio</th>\n",
        "    </tr>\n",
        "    <tr>\n",
        "      <th>dest_name</th>\n",
        "      <th></th>\n",
        "      <th></th>\n",
        "      <th></th>\n",
        "      <th></th>\n",
        "    </tr>\n",
        "  </thead>\n",
        "  <tbody>\n",
        "    <tr>\n",
        "      <th>Rancho del Rey Middle</th>\n",
        "      <td> 1206</td>\n",
        "      <td> 1206</td>\n",
        "      <td> 254</td>\n",
        "      <td> 0.786070</td>\n",
        "    </tr>\n",
        "    <tr>\n",
        "      <th>Bonita Vista Senior High</th>\n",
        "      <td> 1277</td>\n",
        "      <td> 1277</td>\n",
        "      <td> 185</td>\n",
        "      <td> 0.848081</td>\n",
        "    </tr>\n",
        "    <tr>\n",
        "      <th>Eastlake High</th>\n",
        "      <td> 1539</td>\n",
        "      <td> 1539</td>\n",
        "      <td> 144</td>\n",
        "      <td> 0.903184</td>\n",
        "    </tr>\n",
        "    <tr>\n",
        "      <th>Eastlake Middle</th>\n",
        "      <td>  622</td>\n",
        "      <td>  622</td>\n",
        "      <td> 131</td>\n",
        "      <td> 0.789389</td>\n",
        "    </tr>\n",
        "    <tr>\n",
        "      <th>Chula Vista Senior High</th>\n",
        "      <td>  889</td>\n",
        "      <td>  889</td>\n",
        "      <td> 115</td>\n",
        "      <td> 0.867267</td>\n",
        "    </tr>\n",
        "  </tbody>\n",
        "</table>\n",
        "<p>5 rows \u00d7 4 columns</p>\n",
        "</div>"
       ],
       "metadata": {},
       "output_type": "pyout",
       "prompt_number": 99,
       "text": [
        "                          requests  approvals  denials  approval_ratio\n",
        "dest_name                                                             \n",
        "Rancho del Rey Middle         1206       1206      254        0.786070\n",
        "Bonita Vista Senior High      1277       1277      185        0.848081\n",
        "Eastlake High                 1539       1539      144        0.903184\n",
        "Eastlake Middle                622        622      131        0.789389\n",
        "Chula Vista Senior High        889        889      115        0.867267\n",
        "\n",
        "[5 rows x 4 columns]"
       ]
      }
     ],
     "prompt_number": 99
    },
    {
     "cell_type": "heading",
     "level": 1,
     "metadata": {},
     "source": [
      "(36) Which school received the least amount of transfer requests?"
     ]
    },
    {
     "cell_type": "code",
     "collapsed": false,
     "input": [
      "df.sort('requests', ascending=True).head()"
     ],
     "language": "python",
     "metadata": {},
     "outputs": [
      {
       "html": [
        "<div style=\"max-height:1000px;max-width:1500px;overflow:auto;\">\n",
        "<table border=\"1\" class=\"dataframe\">\n",
        "  <thead>\n",
        "    <tr style=\"text-align: right;\">\n",
        "      <th></th>\n",
        "      <th>requests</th>\n",
        "      <th>approvals</th>\n",
        "      <th>denials</th>\n",
        "      <th>approval_ratio</th>\n",
        "    </tr>\n",
        "    <tr>\n",
        "      <th>dest_name</th>\n",
        "      <th></th>\n",
        "      <th></th>\n",
        "      <th></th>\n",
        "      <th></th>\n",
        "    </tr>\n",
        "  </thead>\n",
        "  <tbody>\n",
        "    <tr>\n",
        "      <th>Options Secondary</th>\n",
        "      <td>   3</td>\n",
        "      <td>   3</td>\n",
        "      <td>  0</td>\n",
        "      <td> 0.666667</td>\n",
        "    </tr>\n",
        "    <tr>\n",
        "      <th>Southwest Middle</th>\n",
        "      <td> 280</td>\n",
        "      <td> 280</td>\n",
        "      <td> 11</td>\n",
        "      <td> 0.960714</td>\n",
        "    </tr>\n",
        "    <tr>\n",
        "      <th>Mar Vista Academy for Problem Based Learning</th>\n",
        "      <td> 289</td>\n",
        "      <td> 289</td>\n",
        "      <td> 28</td>\n",
        "      <td> 0.882353</td>\n",
        "    </tr>\n",
        "    <tr>\n",
        "      <th>Granger Junior High</th>\n",
        "      <td> 330</td>\n",
        "      <td> 330</td>\n",
        "      <td>  5</td>\n",
        "      <td> 0.984848</td>\n",
        "    </tr>\n",
        "    <tr>\n",
        "      <th>Castle Park Middle</th>\n",
        "      <td> 375</td>\n",
        "      <td> 375</td>\n",
        "      <td>  3</td>\n",
        "      <td> 0.989333</td>\n",
        "    </tr>\n",
        "  </tbody>\n",
        "</table>\n",
        "<p>5 rows \u00d7 4 columns</p>\n",
        "</div>"
       ],
       "metadata": {},
       "output_type": "pyout",
       "prompt_number": 100,
       "text": [
        "                                              requests  approvals  denials  \\\n",
        "dest_name                                                                    \n",
        "Options Secondary                                    3          3        0   \n",
        "Southwest Middle                                   280        280       11   \n",
        "Mar Vista Academy for Problem Based Learning       289        289       28   \n",
        "Granger Junior High                                330        330        5   \n",
        "Castle Park Middle                                 375        375        3   \n",
        "\n",
        "                                              approval_ratio  \n",
        "dest_name                                                     \n",
        "Options Secondary                                   0.666667  \n",
        "Southwest Middle                                    0.960714  \n",
        "Mar Vista Academy for Problem Based Learning        0.882353  \n",
        "Granger Junior High                                 0.984848  \n",
        "Castle Park Middle                                  0.989333  \n",
        "\n",
        "[5 rows x 4 columns]"
       ]
      }
     ],
     "prompt_number": 100
    },
    {
     "cell_type": "markdown",
     "metadata": {},
     "source": [
      "(37) What\u2019s the most popular/ least popular school? Gonzalo Urrutia"
     ]
    }
   ],
   "metadata": {}
  }
 ]
}