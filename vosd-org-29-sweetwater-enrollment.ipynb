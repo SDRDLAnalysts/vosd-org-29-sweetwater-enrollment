{
 "metadata": {
  "name": "",
  "signature": "sha256:28d38eac4f4bd93c26e19159570fef7727a7b2b81bef9ac3d3c812c7597ed219"
 },
 "nbformat": 3,
 "nbformat_minor": 0,
 "worksheets": [
  {
   "cells": [
    {
     "cell_type": "heading",
     "level": 1,
     "metadata": {},
     "source": [
      "Sweetwater Unified School District"
     ]
    },
    {
     "cell_type": "markdown",
     "metadata": {},
     "source": [
      "This project uses data from a [Data Warehouse](http://warehouse.sandiegodata.org/voiceofsandiego.org/d756fd2e-1480-4e30-a355-5e8abe46358b/index.html) and produces these files: \n",
      "* [Transfer counts, in and out of each school](data/transfers_in_out.csv) for (31) and (32)\n",
      "* [Requests, acceptances and denials for Transfer In](data/requests_accepts_denials.csv) for (33), (34), (36), (37)\n"
     ]
    },
    {
     "cell_type": "code",
     "collapsed": false,
     "input": [
      "%matplotlib inline\n",
      "import numpy as np\n",
      "import matplotlib as mpl\n",
      "import pandas as pd\n",
      "from  sdipylib.url import cache_url\n",
      "fn = cache_url('http://warehouse.sandiegodata.org/voiceofsandiego.org/d756fd2e-1480-4e30-a355-5e8abe46358b/adjusted_transfers.csv')\n",
      "adj_t = pd.read_csv(fn)"
     ],
     "language": "python",
     "metadata": {},
     "outputs": [
      {
       "output_type": "stream",
       "stream": "stdout",
       "text": [
        "Wrote 124508 bytes, total 124508\n"
       ]
      }
     ],
     "prompt_number": 4
    },
    {
     "cell_type": "markdown",
     "metadata": {},
     "source": [
      "#(30) Create a spreadsheet from input files\n",
      "\n",
      "A 6 Column Spreadsheet with this info: Year, Home School, Zip Code of Home School, Desired School to Transfer to, Zip Code of Desired School, and Approved/Denied\n",
      "\n",
      "Below is a quick glimpse at the csv file, which you can download here ([link](https://raw.githubusercontent.com/SDRDLAnalysts/vosd-org-29-sweetwater-enrollment/master/notebooks/sweetwater_transfers_zip.csv))"
     ]
    },
    {
     "cell_type": "code",
     "collapsed": false,
     "input": [
      "six = pd.read_csv('https://raw.githubusercontent.com/SDRDLAnalysts/vosd-org-29-sweetwater-enrollment/master/notebooks/sweetwater_transfers_zip.csv')\n",
      "six[['year','origin','origin_zip','dest','dest_zip','status']].head()"
     ],
     "language": "python",
     "metadata": {},
     "outputs": [
      {
       "html": [
        "<div style=\"max-height:1000px;max-width:1500px;overflow:auto;\">\n",
        "<table border=\"1\" class=\"dataframe\">\n",
        "  <thead>\n",
        "    <tr style=\"text-align: right;\">\n",
        "      <th></th>\n",
        "      <th>year</th>\n",
        "      <th>origin</th>\n",
        "      <th>origin_zip</th>\n",
        "      <th>dest</th>\n",
        "      <th>dest_zip</th>\n",
        "      <th>status</th>\n",
        "    </tr>\n",
        "  </thead>\n",
        "  <tbody>\n",
        "    <tr>\n",
        "      <th>0</th>\n",
        "      <td> 2012</td>\n",
        "      <td> ORH</td>\n",
        "      <td> 91913</td>\n",
        "      <td> BVH</td>\n",
        "      <td> 91913</td>\n",
        "      <td> Approved</td>\n",
        "    </tr>\n",
        "    <tr>\n",
        "      <th>1</th>\n",
        "      <td> 2012</td>\n",
        "      <td> ELH</td>\n",
        "      <td> 91915</td>\n",
        "      <td> BVH</td>\n",
        "      <td> 91913</td>\n",
        "      <td> Approved</td>\n",
        "    </tr>\n",
        "    <tr>\n",
        "      <th>2</th>\n",
        "      <td> 2012</td>\n",
        "      <td> CPH</td>\n",
        "      <td> 91911</td>\n",
        "      <td> BVH</td>\n",
        "      <td> 91913</td>\n",
        "      <td> Approved</td>\n",
        "    </tr>\n",
        "    <tr>\n",
        "      <th>3</th>\n",
        "      <td> 2012</td>\n",
        "      <td> CVH</td>\n",
        "      <td> 91911</td>\n",
        "      <td> BVH</td>\n",
        "      <td> 91913</td>\n",
        "      <td> Approved</td>\n",
        "    </tr>\n",
        "    <tr>\n",
        "      <th>4</th>\n",
        "      <td> 2012</td>\n",
        "      <td> CVH</td>\n",
        "      <td> 91911</td>\n",
        "      <td> BVH</td>\n",
        "      <td> 91913</td>\n",
        "      <td> Approved</td>\n",
        "    </tr>\n",
        "  </tbody>\n",
        "</table>\n",
        "<p>5 rows \u00d7 6 columns</p>\n",
        "</div>"
       ],
       "metadata": {},
       "output_type": "pyout",
       "prompt_number": 27,
       "text": [
        "   year origin  origin_zip dest  dest_zip    status\n",
        "0  2012    ORH       91913  BVH     91913  Approved\n",
        "1  2012    ELH       91915  BVH     91913  Approved\n",
        "2  2012    CPH       91911  BVH     91913  Approved\n",
        "3  2012    CVH       91911  BVH     91913  Approved\n",
        "4  2012    CVH       91911  BVH     91913  Approved\n",
        "\n",
        "[5 rows x 6 columns]"
       ]
      }
     ],
     "prompt_number": 27
    },
    {
     "cell_type": "heading",
     "level": 1,
     "metadata": {},
     "source": [
      "(31) Which school received the most requests to transfer to?"
     ]
    },
    {
     "cell_type": "markdown",
     "metadata": {},
     "source": [
      "This counts all transfer requests, regardless of wether they were approved or denied. "
     ]
    },
    {
     "cell_type": "code",
     "collapsed": false,
     "input": [
      "df = pd.DataFrame({\n",
      "    'trans_in':adj_t[['dest_name','COUNT']].groupby('dest_name').sum().COUNT,\n",
      "    'trans_out':adj_t[['origin_name','COUNT']].groupby('origin_name').sum().COUNT\n",
      "})\n",
      "\n",
      "df.fillna(0, inplace = True)\n",
      "df['total']=df.trans_in+df.trans_out\n",
      "df.sort('total','trans_in',ascending=False).head()"
     ],
     "language": "python",
     "metadata": {},
     "outputs": [
      {
       "html": [
        "<div style=\"max-height:1000px;max-width:1500px;overflow:auto;\">\n",
        "<table border=\"1\" class=\"dataframe\">\n",
        "  <thead>\n",
        "    <tr style=\"text-align: right;\">\n",
        "      <th></th>\n",
        "      <th>trans_in</th>\n",
        "      <th>trans_out</th>\n",
        "      <th>total</th>\n",
        "    </tr>\n",
        "  </thead>\n",
        "  <tbody>\n",
        "    <tr>\n",
        "      <th>Otay Ranch Senior High</th>\n",
        "      <td> 2516</td>\n",
        "      <td> 1622</td>\n",
        "      <td> 4138</td>\n",
        "    </tr>\n",
        "    <tr>\n",
        "      <th>Olympian High</th>\n",
        "      <td> 2442</td>\n",
        "      <td> 1516</td>\n",
        "      <td> 3958</td>\n",
        "    </tr>\n",
        "    <tr>\n",
        "      <th>Montgomery Senior High</th>\n",
        "      <td> 2039</td>\n",
        "      <td> 1586</td>\n",
        "      <td> 3625</td>\n",
        "    </tr>\n",
        "    <tr>\n",
        "      <th>Eastlake High</th>\n",
        "      <td> 1539</td>\n",
        "      <td>  977</td>\n",
        "      <td> 2516</td>\n",
        "    </tr>\n",
        "    <tr>\n",
        "      <th>Hilltop Middle</th>\n",
        "      <td> 1525</td>\n",
        "      <td>  809</td>\n",
        "      <td> 2334</td>\n",
        "    </tr>\n",
        "  </tbody>\n",
        "</table>\n",
        "<p>5 rows \u00d7 3 columns</p>\n",
        "</div>"
       ],
       "metadata": {},
       "output_type": "pyout",
       "prompt_number": 6,
       "text": [
        "                        trans_in  trans_out  total\n",
        "Otay Ranch Senior High      2516       1622   4138\n",
        "Olympian High               2442       1516   3958\n",
        "Montgomery Senior High      2039       1586   3625\n",
        "Eastlake High               1539        977   2516\n",
        "Hilltop Middle              1525        809   2334\n",
        "\n",
        "[5 rows x 3 columns]"
       ]
      }
     ],
     "prompt_number": 6
    },
    {
     "cell_type": "markdown",
     "metadata": {},
     "source": [
      "**Answer**: The school that received the most requests to transfer into is Otay Ranch Senior High."
     ]
    },
    {
     "cell_type": "heading",
     "level": 1,
     "metadata": {},
     "source": [
      "(32) Which school received the most requests to leave (via Transfer to another school)?"
     ]
    },
    {
     "cell_type": "markdown",
     "metadata": {},
     "source": [
      "This counts all transfer requests, regardless of wether they were approved or denied. "
     ]
    },
    {
     "cell_type": "code",
     "collapsed": false,
     "input": [
      "df.sort('trans_out',ascending=False).head()"
     ],
     "language": "python",
     "metadata": {},
     "outputs": [
      {
       "html": [
        "<div style=\"max-height:1000px;max-width:1500px;overflow:auto;\">\n",
        "<table border=\"1\" class=\"dataframe\">\n",
        "  <thead>\n",
        "    <tr style=\"text-align: right;\">\n",
        "      <th></th>\n",
        "      <th>trans_in</th>\n",
        "      <th>trans_out</th>\n",
        "    </tr>\n",
        "  </thead>\n",
        "  <tbody>\n",
        "    <tr>\n",
        "      <th>Castle Park Senior High</th>\n",
        "      <td>  888</td>\n",
        "      <td> 2203</td>\n",
        "    </tr>\n",
        "    <tr>\n",
        "      <th>Castle Park Middle</th>\n",
        "      <td>  375</td>\n",
        "      <td> 2050</td>\n",
        "    </tr>\n",
        "    <tr>\n",
        "      <th>Southwest Senior High</th>\n",
        "      <td> 1052</td>\n",
        "      <td> 1946</td>\n",
        "    </tr>\n",
        "    <tr>\n",
        "      <th>San Ysidro High</th>\n",
        "      <td> 1521</td>\n",
        "      <td> 1835</td>\n",
        "    </tr>\n",
        "    <tr>\n",
        "      <th>Otay Ranch Senior High</th>\n",
        "      <td> 2516</td>\n",
        "      <td> 1622</td>\n",
        "    </tr>\n",
        "  </tbody>\n",
        "</table>\n",
        "<p>5 rows \u00d7 2 columns</p>\n",
        "</div>"
       ],
       "metadata": {},
       "output_type": "pyout",
       "prompt_number": 96,
       "text": [
        "                         trans_in  trans_out\n",
        "Castle Park Senior High       888       2203\n",
        "Castle Park Middle            375       2050\n",
        "Southwest Senior High        1052       1946\n",
        "San Ysidro High              1521       1835\n",
        "Otay Ranch Senior High       2516       1622\n",
        "\n",
        "[5 rows x 2 columns]"
       ]
      }
     ],
     "prompt_number": 96
    },
    {
     "cell_type": "markdown",
     "metadata": {},
     "source": [
      "**Answer**: As seen in the table above, Castle Park SH received the most requests to transfer out of the school."
     ]
    },
    {
     "cell_type": "code",
     "collapsed": false,
     "input": [
      "df.to_csv('data/transfers_in_out.csv')"
     ],
     "language": "python",
     "metadata": {},
     "outputs": [],
     "prompt_number": 97
    },
    {
     "cell_type": "markdown",
     "metadata": {},
     "source": [
      "You can also [download the whole file as a csv](data/transfers_in_out.csv)"
     ]
    },
    {
     "cell_type": "heading",
     "level": 1,
     "metadata": {},
     "source": [
      "(33) Which school accepted the most transfers?\n"
     ]
    },
    {
     "cell_type": "markdown",
     "metadata": {},
     "source": [
      "The remaining questions all use the same dataset, which will be sorted on different columns. You can  [download the whole file]('data/requests_accepts_denials.csv') to sort it in Excel. "
     ]
    },
    {
     "cell_type": "code",
     "collapsed": false,
     "input": [
      "all_t = (adj_t[['dest_name','COUNT']]\n",
      "           .groupby('dest_name')\n",
      "           .sum().sort('COUNT', ascending=False))\n",
      "\n",
      "accpt_t = (adj_t[['dest_name','COUNT']]\n",
      "           .loc[(adj_t.status == 'Approved') | (adj_t.status == ' Approved')] # Second one has space at start\n",
      "           .groupby('dest_name')\n",
      "           .sum().sort('COUNT', ascending=False))\n",
      "\n",
      "deny_t = (adj_t[['dest_name','COUNT']]\n",
      "           .loc[adj_t.status == 'Denied']\n",
      "           .groupby('dest_name')\n",
      "           .sum().sort('COUNT', ascending=False))\n",
      "\n",
      "df = pd.DataFrame()\n",
      "df['requests'] = all_t.COUNT\n",
      "df['approvals'] = accpt_t.COUNT\n",
      "df['denials'] = deny_t.COUNT\n",
      "df['approval_ratio'] = accpt_t.COUNT / all_t.COUNT\n",
      "\n",
      "df.sort('approvals', ascending=False, inplace = True)\n",
      "df.fillna(0, inplace = True)\n",
      "df.to_csv('data/requests_accepts_denials.csv')\n",
      "\n",
      "df.head()"
     ],
     "language": "python",
     "metadata": {},
     "outputs": [
      {
       "html": [
        "<div style=\"max-height:1000px;max-width:1500px;overflow:auto;\">\n",
        "<table border=\"1\" class=\"dataframe\">\n",
        "  <thead>\n",
        "    <tr style=\"text-align: right;\">\n",
        "      <th></th>\n",
        "      <th>requests</th>\n",
        "      <th>approvals</th>\n",
        "      <th>denials</th>\n",
        "      <th>approval_ratio</th>\n",
        "    </tr>\n",
        "    <tr>\n",
        "      <th>dest_name</th>\n",
        "      <th></th>\n",
        "      <th></th>\n",
        "      <th></th>\n",
        "      <th></th>\n",
        "    </tr>\n",
        "  </thead>\n",
        "  <tbody>\n",
        "    <tr>\n",
        "      <th>Otay Ranch Senior High</th>\n",
        "      <td> 2516</td>\n",
        "      <td> 2412</td>\n",
        "      <td> 103</td>\n",
        "      <td> 0.958665</td>\n",
        "    </tr>\n",
        "    <tr>\n",
        "      <th>Olympian High</th>\n",
        "      <td> 2442</td>\n",
        "      <td> 2368</td>\n",
        "      <td>  72</td>\n",
        "      <td> 0.969697</td>\n",
        "    </tr>\n",
        "    <tr>\n",
        "      <th>Montgomery Senior High</th>\n",
        "      <td> 2039</td>\n",
        "      <td> 2003</td>\n",
        "      <td>  32</td>\n",
        "      <td> 0.982344</td>\n",
        "    </tr>\n",
        "    <tr>\n",
        "      <th>San Ysidro High</th>\n",
        "      <td> 1521</td>\n",
        "      <td> 1479</td>\n",
        "      <td>  31</td>\n",
        "      <td> 0.972387</td>\n",
        "    </tr>\n",
        "    <tr>\n",
        "      <th>Hilltop Middle</th>\n",
        "      <td> 1525</td>\n",
        "      <td> 1428</td>\n",
        "      <td>  90</td>\n",
        "      <td> 0.936393</td>\n",
        "    </tr>\n",
        "  </tbody>\n",
        "</table>\n",
        "<p>5 rows \u00d7 4 columns</p>\n",
        "</div>"
       ],
       "metadata": {},
       "output_type": "pyout",
       "prompt_number": 9,
       "text": [
        "                        requests  approvals  denials  approval_ratio\n",
        "dest_name                                                           \n",
        "Otay Ranch Senior High      2516       2412      103        0.958665\n",
        "Olympian High               2442       2368       72        0.969697\n",
        "Montgomery Senior High      2039       2003       32        0.982344\n",
        "San Ysidro High             1521       1479       31        0.972387\n",
        "Hilltop Middle              1525       1428       90        0.936393\n",
        "\n",
        "[5 rows x 4 columns]"
       ]
      }
     ],
     "prompt_number": 9
    },
    {
     "cell_type": "markdown",
     "metadata": {},
     "source": [
      "**Answer**: Otay Ranch Senior High approves the highest amount of transfers. "
     ]
    },
    {
     "cell_type": "heading",
     "level": 1,
     "metadata": {},
     "source": [
      "(34) Which school denied the most transfers?"
     ]
    },
    {
     "cell_type": "code",
     "collapsed": false,
     "input": [
      "df.sort('denials', ascending=False).head()"
     ],
     "language": "python",
     "metadata": {},
     "outputs": [
      {
       "html": [
        "<div style=\"max-height:1000px;max-width:1500px;overflow:auto;\">\n",
        "<table border=\"1\" class=\"dataframe\">\n",
        "  <thead>\n",
        "    <tr style=\"text-align: right;\">\n",
        "      <th></th>\n",
        "      <th>requests</th>\n",
        "      <th>approvals</th>\n",
        "      <th>denials</th>\n",
        "      <th>approval_ratio</th>\n",
        "    </tr>\n",
        "    <tr>\n",
        "      <th>dest_name</th>\n",
        "      <th></th>\n",
        "      <th></th>\n",
        "      <th></th>\n",
        "      <th></th>\n",
        "    </tr>\n",
        "  </thead>\n",
        "  <tbody>\n",
        "    <tr>\n",
        "      <th>Rancho del Rey Middle</th>\n",
        "      <td> 1206</td>\n",
        "      <td>  948</td>\n",
        "      <td> 254</td>\n",
        "      <td> 0.786070</td>\n",
        "    </tr>\n",
        "    <tr>\n",
        "      <th>Bonita Vista Senior High</th>\n",
        "      <td> 1277</td>\n",
        "      <td> 1083</td>\n",
        "      <td> 185</td>\n",
        "      <td> 0.848081</td>\n",
        "    </tr>\n",
        "    <tr>\n",
        "      <th>Eastlake High</th>\n",
        "      <td> 1539</td>\n",
        "      <td> 1390</td>\n",
        "      <td> 144</td>\n",
        "      <td> 0.903184</td>\n",
        "    </tr>\n",
        "    <tr>\n",
        "      <th>Eastlake Middle</th>\n",
        "      <td>  622</td>\n",
        "      <td>  491</td>\n",
        "      <td> 131</td>\n",
        "      <td> 0.789389</td>\n",
        "    </tr>\n",
        "    <tr>\n",
        "      <th>Chula Vista Senior High</th>\n",
        "      <td>  889</td>\n",
        "      <td>  771</td>\n",
        "      <td> 115</td>\n",
        "      <td> 0.867267</td>\n",
        "    </tr>\n",
        "  </tbody>\n",
        "</table>\n",
        "<p>5 rows \u00d7 4 columns</p>\n",
        "</div>"
       ],
       "metadata": {},
       "output_type": "pyout",
       "prompt_number": 11,
       "text": [
        "                          requests  approvals  denials  approval_ratio\n",
        "dest_name                                                             \n",
        "Rancho del Rey Middle         1206        948      254        0.786070\n",
        "Bonita Vista Senior High      1277       1083      185        0.848081\n",
        "Eastlake High                 1539       1390      144        0.903184\n",
        "Eastlake Middle                622        491      131        0.789389\n",
        "Chula Vista Senior High        889        771      115        0.867267\n",
        "\n",
        "[5 rows x 4 columns]"
       ]
      }
     ],
     "prompt_number": 11
    },
    {
     "cell_type": "markdown",
     "metadata": {},
     "source": [
      "**Answer**: Rancho del Rey Middle rejects the highest amount of transfers. "
     ]
    },
    {
     "cell_type": "heading",
     "level": 1,
     "metadata": {},
     "source": [
      "(36) Which school received the least amount of transfer requests?"
     ]
    },
    {
     "cell_type": "code",
     "collapsed": false,
     "input": [
      "df.sort('requests', ascending=True).head()"
     ],
     "language": "python",
     "metadata": {},
     "outputs": [
      {
       "html": [
        "<div style=\"max-height:1000px;max-width:1500px;overflow:auto;\">\n",
        "<table border=\"1\" class=\"dataframe\">\n",
        "  <thead>\n",
        "    <tr style=\"text-align: right;\">\n",
        "      <th></th>\n",
        "      <th>requests</th>\n",
        "      <th>approvals</th>\n",
        "      <th>denials</th>\n",
        "      <th>approval_ratio</th>\n",
        "    </tr>\n",
        "    <tr>\n",
        "      <th>dest_name</th>\n",
        "      <th></th>\n",
        "      <th></th>\n",
        "      <th></th>\n",
        "      <th></th>\n",
        "    </tr>\n",
        "  </thead>\n",
        "  <tbody>\n",
        "    <tr>\n",
        "      <th>Options Secondary</th>\n",
        "      <td>   3</td>\n",
        "      <td>   3</td>\n",
        "      <td>  0</td>\n",
        "      <td> 0.666667</td>\n",
        "    </tr>\n",
        "    <tr>\n",
        "      <th>Southwest Middle</th>\n",
        "      <td> 280</td>\n",
        "      <td> 280</td>\n",
        "      <td> 11</td>\n",
        "      <td> 0.960714</td>\n",
        "    </tr>\n",
        "    <tr>\n",
        "      <th>Mar Vista Academy for Problem Based Learning</th>\n",
        "      <td> 289</td>\n",
        "      <td> 289</td>\n",
        "      <td> 28</td>\n",
        "      <td> 0.882353</td>\n",
        "    </tr>\n",
        "    <tr>\n",
        "      <th>Granger Junior High</th>\n",
        "      <td> 330</td>\n",
        "      <td> 330</td>\n",
        "      <td>  5</td>\n",
        "      <td> 0.984848</td>\n",
        "    </tr>\n",
        "    <tr>\n",
        "      <th>Castle Park Middle</th>\n",
        "      <td> 375</td>\n",
        "      <td> 375</td>\n",
        "      <td>  3</td>\n",
        "      <td> 0.989333</td>\n",
        "    </tr>\n",
        "  </tbody>\n",
        "</table>\n",
        "<p>5 rows \u00d7 4 columns</p>\n",
        "</div>"
       ],
       "metadata": {},
       "output_type": "pyout",
       "prompt_number": 100,
       "text": [
        "                                              requests  approvals  denials  \\\n",
        "dest_name                                                                    \n",
        "Options Secondary                                    3          3        0   \n",
        "Southwest Middle                                   280        280       11   \n",
        "Mar Vista Academy for Problem Based Learning       289        289       28   \n",
        "Granger Junior High                                330        330        5   \n",
        "Castle Park Middle                                 375        375        3   \n",
        "\n",
        "                                              approval_ratio  \n",
        "dest_name                                                     \n",
        "Options Secondary                                   0.666667  \n",
        "Southwest Middle                                    0.960714  \n",
        "Mar Vista Academy for Problem Based Learning        0.882353  \n",
        "Granger Junior High                                 0.984848  \n",
        "Castle Park Middle                                  0.989333  \n",
        "\n",
        "[5 rows x 4 columns]"
       ]
      }
     ],
     "prompt_number": 100
    },
    {
     "cell_type": "markdown",
     "metadata": {},
     "source": [
      "**Answer**: Options Secondary, followed by Southwest Middle has the least amount of transfer requests. "
     ]
    },
    {
     "cell_type": "markdown",
     "metadata": {},
     "source": [
      "#(37) What\u2019s the most popular/ least popular school?"
     ]
    },
    {
     "cell_type": "markdown",
     "metadata": {},
     "source": [
      "For the purpose of this question, we'll define popularity as net transferring students.\n",
      "\n",
      "     Net = Incoming Transfers - Outgoing Transfers\n",
      "\n",
      "If net is large, then school is popular.\n"
     ]
    },
    {
     "cell_type": "markdown",
     "metadata": {},
     "source": [
      "### Most popular school award goes to Olympian High."
     ]
    },
    {
     "cell_type": "code",
     "collapsed": false,
     "input": [
      "df1 = adj_t[adj_t.status == 'Approved']"
     ],
     "language": "python",
     "metadata": {},
     "outputs": [],
     "prompt_number": 19
    },
    {
     "cell_type": "code",
     "collapsed": false,
     "input": [
      "df2 = pd.DataFrame({\n",
      "    'trans_in':df1[['dest_name','COUNT']].groupby('dest_name').sum().COUNT,\n",
      "    'trans_out':df1[['origin_name','COUNT']].groupby('origin_name').sum().COUNT\n",
      "})\n",
      "df2.fillna(0, inplace = True)\n",
      "df2['net']=df2.trans_in-df2.trans_out\n",
      "\n",
      "df2.sort('net',ascending=False).head(3).plot(kind='bar', colormap='Accent')\n",
      "df2.sort('net',ascending=False).head(3)"
     ],
     "language": "python",
     "metadata": {},
     "outputs": [
      {
       "html": [
        "<div style=\"max-height:1000px;max-width:1500px;overflow:auto;\">\n",
        "<table border=\"1\" class=\"dataframe\">\n",
        "  <thead>\n",
        "    <tr style=\"text-align: right;\">\n",
        "      <th></th>\n",
        "      <th>trans_in</th>\n",
        "      <th>trans_out</th>\n",
        "      <th>net</th>\n",
        "    </tr>\n",
        "  </thead>\n",
        "  <tbody>\n",
        "    <tr>\n",
        "      <th>Olympian High</th>\n",
        "      <td> 2368</td>\n",
        "      <td> 1430</td>\n",
        "      <td> 938</td>\n",
        "    </tr>\n",
        "    <tr>\n",
        "      <th>Otay Ranch Senior High</th>\n",
        "      <td> 2412</td>\n",
        "      <td> 1548</td>\n",
        "      <td> 864</td>\n",
        "    </tr>\n",
        "    <tr>\n",
        "      <th>Hilltop Middle</th>\n",
        "      <td> 1428</td>\n",
        "      <td>  729</td>\n",
        "      <td> 699</td>\n",
        "    </tr>\n",
        "  </tbody>\n",
        "</table>\n",
        "<p>3 rows \u00d7 3 columns</p>\n",
        "</div>"
       ],
       "metadata": {},
       "output_type": "pyout",
       "prompt_number": 21,
       "text": [
        "                        trans_in  trans_out  net\n",
        "Olympian High               2368       1430  938\n",
        "Otay Ranch Senior High      2412       1548  864\n",
        "Hilltop Middle              1428        729  699\n",
        "\n",
        "[3 rows x 3 columns]"
       ]
      },
      {
       "metadata": {},
       "output_type": "display_data",
       "png": "[encoded data removed]",
       "text": [
        "<matplotlib.figure.Figure at 0x10b643e10>"
       ]
      }
     ],
     "prompt_number": 21
    },
    {
     "cell_type": "markdown",
     "metadata": {},
     "source": [
      "### Least popular school award goes to Southwest Senior High."
     ]
    },
    {
     "cell_type": "code",
     "collapsed": false,
     "input": [
      "least=df2.tail(3).sort('net',ascending=True)\n",
      "least"
     ],
     "language": "python",
     "metadata": {},
     "outputs": [
      {
       "html": [
        "<div style=\"max-height:1000px;max-width:1500px;overflow:auto;\">\n",
        "<table border=\"1\" class=\"dataframe\">\n",
        "  <thead>\n",
        "    <tr style=\"text-align: right;\">\n",
        "      <th></th>\n",
        "      <th>trans_in</th>\n",
        "      <th>trans_out</th>\n",
        "      <th>net</th>\n",
        "    </tr>\n",
        "  </thead>\n",
        "  <tbody>\n",
        "    <tr>\n",
        "      <th>Southwest Senior High</th>\n",
        "      <td> 1015</td>\n",
        "      <td> 1890</td>\n",
        "      <td>-875</td>\n",
        "    </tr>\n",
        "    <tr>\n",
        "      <th>Southwest Middle</th>\n",
        "      <td>  269</td>\n",
        "      <td>  505</td>\n",
        "      <td>-236</td>\n",
        "    </tr>\n",
        "    <tr>\n",
        "      <th>Sweetwater High</th>\n",
        "      <td>  708</td>\n",
        "      <td>  561</td>\n",
        "      <td> 147</td>\n",
        "    </tr>\n",
        "  </tbody>\n",
        "</table>\n",
        "<p>3 rows \u00d7 3 columns</p>\n",
        "</div>"
       ],
       "metadata": {},
       "output_type": "pyout",
       "prompt_number": 25,
       "text": [
        "                       trans_in  trans_out  net\n",
        "Southwest Senior High      1015       1890 -875\n",
        "Southwest Middle            269        505 -236\n",
        "Sweetwater High             708        561  147\n",
        "\n",
        "[3 rows x 3 columns]"
       ]
      }
     ],
     "prompt_number": 25
    },
    {
     "cell_type": "code",
     "collapsed": false,
     "input": [
      "plot=least.tail(3).plot(kind='bar',colormap='Accent')\n",
      "plot.legend(loc='center left', bbox_to_anchor=(1, 0.5))"
     ],
     "language": "python",
     "metadata": {},
     "outputs": [
      {
       "metadata": {},
       "output_type": "pyout",
       "prompt_number": 24,
       "text": [
        "<matplotlib.legend.Legend at 0x10b643d90>"
       ]
      },
      {
       "metadata": {},
       "output_type": "display_data",
       "png": "[encoded data removed]",
       "text": [
        "<matplotlib.figure.Figure at 0x10b643f90>"
       ]
      }
     ],
     "prompt_number": 24
    }
   ],
   "metadata": {}
  }
 ]
}