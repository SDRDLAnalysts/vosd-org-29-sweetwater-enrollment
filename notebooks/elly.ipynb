{
 "metadata": {
  "name": "",
  "signature": "sha256:a3e0f2125f4837fb1c728863a392d85209b1c31ba71d949b7f3a5835a1deec32"
 },
 "nbformat": 3,
 "nbformat_minor": 0,
 "worksheets": [
  {
   "cells": [
    {
     "cell_type": "code",
     "collapsed": false,
     "input": [
      "%matplotlib inline\n",
      "import numpy as np\n",
      "import matplotlib as mpl\n",
      "import pandas as pd\n",
      "from  sdipylib.url import cache_url\n",
      "pd.options.display.max_columns = 50"
     ],
     "language": "python",
     "metadata": {},
     "outputs": [],
     "prompt_number": 1
    },
    {
     "cell_type": "code",
     "collapsed": false,
     "input": [
      "fn = cache_url('http://warehouse.sandiegodata.org/voiceofsandiego.org/d756fd2e-1480-4e30-a355-5e8abe46358b/adjusted_transfers.csv')\n",
      "df = pd.read_csv(fn)"
     ],
     "language": "python",
     "metadata": {},
     "outputs": [],
     "prompt_number": 2
    },
    {
     "cell_type": "heading",
     "level": 6,
     "metadata": {},
     "source": [
      "1. Which school received the most requests to transfer to?"
     ]
    },
    {
     "cell_type": "code",
     "collapsed": false,
     "input": [
      "df_group_dest = df.groupby('dest')\n",
      "schools = {'CPH': 0, 'CPM': 0, 'SUH': 0, 'MVH': 0, 'CVM': 0, 'GJH': 0, 'OLH': 0, 'SOH': 0, 'SOM': 0, 'ELH': 0,\n",
      "           'ORH': 0, 'CVH': 0, 'ELM': 0, 'RDM': 0, 'SAILS': 0, 'MVM': 0, 'HTM': 0, 'SYH': 0, 'HTH': 0, 'MOH': 0,\n",
      "           'NCM': 0, 'MOM': 0, 'BVH': 0, 'BVM': 0}\n",
      "\n",
      "for school in df_group_dest:\n",
      "    schools[school[0]] += sum(school[1]['COUNT'])\n",
      "\n",
      "print 'School', max(schools), 'received the most requests to transfer to:', schools[max(schools)], 'requests.'"
     ],
     "language": "python",
     "metadata": {},
     "outputs": [
      {
       "output_type": "stream",
       "stream": "stdout",
       "text": [
        "School SYH received the most requests to transfer to: 1521 requests.\n"
       ]
      }
     ],
     "prompt_number": 9
    },
    {
     "cell_type": "heading",
     "level": 6,
     "metadata": {},
     "source": [
      "2. Which school received the most requests to leave (via Transfer to another school)?"
     ]
    },
    {
     "cell_type": "code",
     "collapsed": false,
     "input": [
      "df_group_ori = df.groupby('origin')\n",
      "schools = {'CPH': 0, 'CPM': 0, 'SUH': 0, 'MVH': 0, 'CVM': 0, 'GJH': 0, 'OLH': 0, 'SOH': 0, 'SOM': 0, 'ELH': 0,\n",
      "           'ORH': 0, 'CVH': 0, 'ELM': 0, 'RDM': 0, 'SAILS': 0, 'MVM': 0, 'HTM': 0, 'SYH': 0, 'HTH': 0, 'MOH': 0,\n",
      "           'NCM': 0, 'MOM': 0, 'BVH': 0, 'BVM': 0}\n",
      "\n",
      "for school in df_group_ori:\n",
      "    schools[school[0]] += sum(school[1]['COUNT'])\n",
      "    \n",
      "print 'School', max(schools), 'received the most requests to leave:', schools[max(schools)], 'requests.'"
     ],
     "language": "python",
     "metadata": {},
     "outputs": [
      {
       "output_type": "stream",
       "stream": "stdout",
       "text": [
        "School SYH received the most requests to leave: 1835 requests.\n"
       ]
      }
     ],
     "prompt_number": 8
    },
    {
     "cell_type": "heading",
     "level": 6,
     "metadata": {},
     "source": [
      "3. Which school accepted the most transfers?"
     ]
    },
    {
     "cell_type": "code",
     "collapsed": false,
     "input": [
      "df_group_accepted = df.groupby(['dest', 'status'])\n",
      "schools = {'CPH': 0, 'CPM': 0, 'SUH': 0, 'MVH': 0, 'CVM': 0, 'GJH': 0, 'OLH': 0, 'SOH': 0, 'SOM': 0, 'ELH': 0,\n",
      "           'ORH': 0, 'CVH': 0, 'ELM': 0, 'RDM': 0, 'SAILS': 0, 'MVM': 0, 'HTM': 0, 'SYH': 0, 'HTH': 0, 'MOH': 0,\n",
      "           'NCM': 0, 'MOM': 0, 'BVH': 0, 'BVM': 0}\n",
      "\n",
      "for school in df_group_accepted:\n",
      "    if school[0][1] == 'Approved':\n",
      "        schools[school[0][0]] += sum(school[1]['COUNT'])\n",
      "\n",
      "print 'School', max(schools), 'accepted the most transfers:', schools[max(schools)], 'accepted transfers.'"
     ],
     "language": "python",
     "metadata": {},
     "outputs": [
      {
       "output_type": "stream",
       "stream": "stdout",
       "text": [
        "School SYH accepted the most transfers: 1479 accepted transfers.\n"
       ]
      }
     ],
     "prompt_number": 11
    },
    {
     "cell_type": "heading",
     "level": 6,
     "metadata": {},
     "source": [
      "4. Which school denied the most transfers?"
     ]
    },
    {
     "cell_type": "code",
     "collapsed": false,
     "input": [
      "df_group_accepted = df.groupby(['dest', 'status'])\n",
      "schools = {'CPH': 0, 'CPM': 0, 'SUH': 0, 'MVH': 0, 'CVM': 0, 'GJH': 0, 'OLH': 0, 'SOH': 0, 'SOM': 0, 'ELH': 0,\n",
      "           'ORH': 0, 'CVH': 0, 'ELM': 0, 'RDM': 0, 'SAILS': 0, 'MVM': 0, 'HTM': 0, 'SYH': 0, 'HTH': 0, 'MOH': 0,\n",
      "           'NCM': 0, 'MOM': 0, 'BVH': 0, 'BVM': 0}\n",
      "\n",
      "for school in df_group_accepted:\n",
      "    if school[0][1] == 'Denied':\n",
      "        schools[school[0][0]] += sum(school[1]['COUNT'])\n",
      "\n",
      "print 'School', max(schools), 'denied the most transfers:', schools[max(schools)], 'denied transfers.'"
     ],
     "language": "python",
     "metadata": {},
     "outputs": [
      {
       "output_type": "stream",
       "stream": "stdout",
       "text": [
        "School SYH denied the most transfers: 31 denied transfers.\n"
       ]
      }
     ],
     "prompt_number": 12
    },
    {
     "cell_type": "heading",
     "level": 6,
     "metadata": {},
     "source": [
      "5. Which school received the least amount of transfer requests?"
     ]
    },
    {
     "cell_type": "code",
     "collapsed": false,
     "input": [
      "df_group_dest = df.groupby('dest')\n",
      "schools = {'CPH': 0, 'CPM': 0, 'SUH': 0, 'MVH': 0, 'CVM': 0, 'GJH': 0, 'OLH': 0, 'SOH': 0, 'SOM': 0, 'ELH': 0,\n",
      "           'ORH': 0, 'CVH': 0, 'ELM': 0, 'RDM': 0, 'SAILS': 0, 'MVM': 0, 'HTM': 0, 'SYH': 0, 'HTH': 0, 'MOH': 0,\n",
      "           'NCM': 0, 'MOM': 0, 'BVH': 0, 'BVM': 0}\n",
      "\n",
      "for school in df_group_dest:\n",
      "    schools[school[0]] += sum(school[1]['COUNT'])\n",
      "\n",
      "print 'School', min(schools), 'received the least amount of transfer requests:', schools[min(schools)], 'requests.'"
     ],
     "language": "python",
     "metadata": {},
     "outputs": [
      {
       "output_type": "stream",
       "stream": "stdout",
       "text": [
        "School BVH received the least amount of transfer requests: 1277 requests.\n"
       ]
      }
     ],
     "prompt_number": 13
    },
    {
     "cell_type": "heading",
     "level": 6,
     "metadata": {},
     "source": [
      "6. What\u2019s the migration look like (via zip code)?"
     ]
    },
    {
     "cell_type": "code",
     "collapsed": false,
     "input": [
      "school_zip = {'BVH': 91913, 'BVM': 91910, 'CPH': 91911, 'CPM': 91911, 'CVH': 91911, 'CVM': 91910, 'ELH': 91915, \n",
      "              'ELM': 91914, 'GJH': 91950, 'HTH': 91910, 'HTM': 91910, 'MOH': 92154, 'MOM': 92154, 'MVH': 91932, \n",
      "              'MVM': 92154, 'NCM': 91950, 'OLH': 91913, 'ORH': 91913, 'RDM': 91910, 'SAILS': 91911, 'SOH': 92154, \n",
      "              'SOM': 92154, 'SUH': 91950, 'SYH': 92154}\n",
      "\n",
      "df_zip = pd.DataFrame({'year': df['year'], 'origin': df['origin'], 'origin_zip': df['year'], 'dest': df['dest'], \n",
      "                       'dest_zip': df['year'], 'status': df['status'], 'COUNT': df['COUNT'], \n",
      "                       'origin_enrolled': df['origin_enrolled'], 'adj_count': df['adj_count']})\n",
      "\n",
      "df_zip.dest_zip = df.dest.apply(lambda school: school_zip[school])\n",
      "df_zip.origin_zip = df.origin.apply(lambda school: school_zip[school])"
     ],
     "language": "python",
     "metadata": {},
     "outputs": [],
     "prompt_number": 16
    },
    {
     "cell_type": "code",
     "collapsed": false,
     "input": [
      "df_group_zip = df_zip.groupby(['dest_zip', 'status'])\n",
      "zip_codes = {91910: 0, 92154: 0, 91913: 0, 91911: 0, 91950: 0, 91915: 0, 91914: 0, 91932: 0}\n",
      "\n",
      "for zip_code in df_group_zip:\n",
      "    if zip_code[0][1] == 'Approved':\n",
      "        zip_codes[zip_code[0][0]] += sum(zip_code[1]['COUNT'])\n",
      "\n",
      "for key, value in zip_codes.items():\n",
      "    print value, 'students were approved to schools located within zip code', key"
     ],
     "language": "python",
     "metadata": {},
     "outputs": [
      {
       "output_type": "stream",
       "stream": "stdout",
       "text": [
        "5573 students were approved to schools located within zip code 91910\n",
        "2017 students were approved to schools located within zip code 91911\n",
        "5863 students were approved to schools located within zip code 91913\n",
        "5418 students were approved to schools located within zip code 92154\n",
        "1390 students were approved to schools located within zip code 91915\n",
        "598 students were approved to schools located within zip code 91932\n",
        "491 students were approved to schools located within zip code 91914\n",
        "1391 students were approved to schools located within zip code 91950\n"
       ]
      }
     ],
     "prompt_number": 31
    },
    {
     "cell_type": "heading",
     "level": 6,
     "metadata": {},
     "source": [
      "7. What\u2019s the most popular/ least popular school?"
     ]
    },
    {
     "cell_type": "code",
     "collapsed": false,
     "input": [],
     "language": "python",
     "metadata": {},
     "outputs": []
    }
   ],
   "metadata": {}
  }
 ]
}