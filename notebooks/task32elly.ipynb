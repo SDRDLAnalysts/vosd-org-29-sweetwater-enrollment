{
 "metadata": {
  "name": "",
  "signature": "sha256:7d935b765aea1d986254985bcf0687f09b95d94e1fd3765b507bb500af7d10fa"
 },
 "nbformat": 3,
 "nbformat_minor": 0,
 "worksheets": [
  {
   "cells": [
    {
     "cell_type": "code",
     "collapsed": false,
     "input": [
      "%matplotlib inline\n",
      "import numpy as np\n",
      "import matplotlib as mpl\n",
      "import pandas as pd\n",
      "from  sdipylib.url import cache_url\n",
      "pd.options.display.max_columns = 50"
     ],
     "language": "python",
     "metadata": {},
     "outputs": [],
     "prompt_number": 2
    },
    {
     "cell_type": "code",
     "collapsed": false,
     "input": [
      "fn = cache_url('http://warehouse.sandiegodata.org/voiceofsandiego.org/d756fd2e-1480-4e30-a355-5e8abe46358b/sweetwater_transfers.csv')\n",
      "df = pd.read_csv(fn)\n",
      "df = df[df.dest != df.origin] #removes all same origin-destination entries\n",
      "df = df[df['status'] == 'Approved'] # removes all non approved entries"
     ],
     "language": "python",
     "metadata": {},
     "outputs": [],
     "prompt_number": 3
    },
    {
     "cell_type": "heading",
     "level": 6,
     "metadata": {},
     "source": [
      "Which school received the most requests to leave (via Transfer to another school)?"
     ]
    },
    {
     "cell_type": "markdown",
     "metadata": {},
     "source": [
      "task #32 by Elly"
     ]
    },
    {
     "cell_type": "code",
     "collapsed": false,
     "input": [
      "grouped = df.groupby('origin').size().order(ascending=False)\n",
      "i = 0\n",
      "for school in grouped[:10]:\n",
      "    print 'School {1} is ranked {0} in most received requests to leave: {2} requests'.format(i + 1, grouped.index[i], school)\n",
      "    i += 1"
     ],
     "language": "python",
     "metadata": {},
     "outputs": [
      {
       "output_type": "stream",
       "stream": "stdout",
       "text": [
        "School CPH is ranked 1 in most received requests to leave: 2550 requests\n",
        "School SOH is ranked 2 in most received requests to leave: 2259 requests\n",
        "School CPM is ranked 3 in most received requests to leave: 2216 requests\n",
        "School SYH is ranked 4 in most received requests to leave: 2040 requests\n",
        "School ORH is ranked 5 in most received requests to leave: 1875 requests\n",
        "School MOH is ranked 6 in most received requests to leave: 1848 requests\n",
        "School OLH is ranked 7 in most received requests to leave: 1792 requests\n",
        "School MVH is ranked 8 in most received requests to leave: 1325 requests\n",
        "School CVH is ranked 9 in most received requests to leave: 1309 requests\n",
        "School HTH is ranked 10 in most received requests to leave: 1238 requests\n"
       ]
      }
     ],
     "prompt_number": 5
    }
   ],
   "metadata": {}
  }
 ]
}