{
 "metadata": {
  "name": "",
  "signature": "sha256:35eedd0eaa4da3b362057faab7e7044a13a2eef15cabd163ef91258ede250f16"
 },
 "nbformat": 3,
 "nbformat_minor": 0,
 "worksheets": [
  {
   "cells": [
    {
     "cell_type": "code",
     "collapsed": false,
     "input": [
      "%matplotlib inline\n",
      "import numpy as np\n",
      "import matplotlib as mpl\n",
      "import pandas as pd\n",
      "from  sdipylib.url import cache_url\n",
      "pd.options.display.max_columns = 50"
     ],
     "language": "python",
     "metadata": {},
     "outputs": [],
     "prompt_number": 1
    },
    {
     "cell_type": "code",
     "collapsed": false,
     "input": [
      "fn = cache_url('http://warehouse.sandiegodata.org/voiceofsandiego.org/d756fd2e-1480-4e30-a355-5e8abe46358b/sweetwater_transfers.csv')\n",
      "df = pd.read_csv(fn)\n",
      "df = df[df.dest != df.origin] #removes all same origin-destination entries\n",
      "df = df[df['status'] == 'Approved'] # removes all non approved entries"
     ],
     "language": "python",
     "metadata": {},
     "outputs": [],
     "prompt_number": 8
    },
    {
     "cell_type": "heading",
     "level": 6,
     "metadata": {},
     "source": [
      "Which school received the most requests to leave (via Transfer to another school)?"
     ]
    },
    {
     "cell_type": "markdown",
     "metadata": {},
     "source": [
      "task #32 by Elly"
     ]
    },
    {
     "cell_type": "code",
     "collapsed": false,
     "input": [
      "grouped = df.groupby('origin').size()\n",
      "print 'School', grouped.idxmax(), 'received the most requests to leave:',  grouped.loc[grouped.idxmax()], 'requests.'"
     ],
     "language": "python",
     "metadata": {},
     "outputs": [
      {
       "output_type": "stream",
       "stream": "stdout",
       "text": [
        "School CPH received the most requests to leave: 2550 requests.\n"
       ]
      }
     ],
     "prompt_number": 9
    }
   ],
   "metadata": {}
  }
 ]
}