{
 "metadata": {
  "name": "",
  "signature": "sha256:89d61592c41ecbcb147f7111c591f42f9891e4d301e4649b2ce6971b1a21930f"
 },
 "nbformat": 3,
 "nbformat_minor": 0,
 "worksheets": [
  {
   "cells": [
    {
     "cell_type": "code",
     "collapsed": false,
     "input": [
      "%matplotlib inline\n",
      "import numpy as np\n",
      "import matplotlib as mpl\n",
      "import pandas as pd\n",
      "from  sdipylib.url import cache_url\n",
      "pd.options.display.max_columns = 50"
     ],
     "language": "python",
     "metadata": {},
     "outputs": [],
     "prompt_number": 2
    },
    {
     "cell_type": "code",
     "collapsed": false,
     "input": [
      "fn = cache_url('http://warehouse.sandiegodata.org/voiceofsandiego.org/d756fd2e-1480-4e30-a355-5e8abe46358b/adjusted_transfers.csv')\n",
      "df = pd.read_csv(fn)\n",
      "df.head()"
     ],
     "language": "python",
     "metadata": {},
     "outputs": [
      {
       "html": [
        "<div style=\"max-height:1000px;max-width:1500px;overflow:auto;\">\n",
        "<table border=\"1\" class=\"dataframe\">\n",
        "  <thead>\n",
        "    <tr style=\"text-align: right;\">\n",
        "      <th></th>\n",
        "      <th>year</th>\n",
        "      <th>origin</th>\n",
        "      <th>dest</th>\n",
        "      <th>status</th>\n",
        "      <th>COUNT</th>\n",
        "      <th>origin_enrolled</th>\n",
        "      <th>adj_count</th>\n",
        "    </tr>\n",
        "  </thead>\n",
        "  <tbody>\n",
        "    <tr>\n",
        "      <th>0</th>\n",
        "      <td> 2009</td>\n",
        "      <td> BVH</td>\n",
        "      <td> CPH</td>\n",
        "      <td> Approved</td>\n",
        "      <td>  7</td>\n",
        "      <td> 2368</td>\n",
        "      <td>  295</td>\n",
        "    </tr>\n",
        "    <tr>\n",
        "      <th>1</th>\n",
        "      <td> 2009</td>\n",
        "      <td> BVH</td>\n",
        "      <td> CVH</td>\n",
        "      <td> Approved</td>\n",
        "      <td>  3</td>\n",
        "      <td> 2368</td>\n",
        "      <td>  126</td>\n",
        "    </tr>\n",
        "    <tr>\n",
        "      <th>2</th>\n",
        "      <td> 2009</td>\n",
        "      <td> BVH</td>\n",
        "      <td> ELH</td>\n",
        "      <td> Approved</td>\n",
        "      <td> 38</td>\n",
        "      <td> 2368</td>\n",
        "      <td> 1604</td>\n",
        "    </tr>\n",
        "    <tr>\n",
        "      <th>3</th>\n",
        "      <td> 2009</td>\n",
        "      <td> BVH</td>\n",
        "      <td> ELH</td>\n",
        "      <td>   Denied</td>\n",
        "      <td>  8</td>\n",
        "      <td> 2368</td>\n",
        "      <td>  337</td>\n",
        "    </tr>\n",
        "    <tr>\n",
        "      <th>4</th>\n",
        "      <td> 2009</td>\n",
        "      <td> BVH</td>\n",
        "      <td> HTH</td>\n",
        "      <td> Approved</td>\n",
        "      <td> 10</td>\n",
        "      <td> 2368</td>\n",
        "      <td>  422</td>\n",
        "    </tr>\n",
        "  </tbody>\n",
        "</table>\n",
        "<p>5 rows \u00d7 7 columns</p>\n",
        "</div>"
       ],
       "metadata": {},
       "output_type": "pyout",
       "prompt_number": 44,
       "text": [
        "   year origin dest    status  COUNT  origin_enrolled  adj_count\n",
        "0  2009    BVH  CPH  Approved      7             2368        295\n",
        "1  2009    BVH  CVH  Approved      3             2368        126\n",
        "2  2009    BVH  ELH  Approved     38             2368       1604\n",
        "3  2009    BVH  ELH    Denied      8             2368        337\n",
        "4  2009    BVH  HTH  Approved     10             2368        422\n",
        "\n",
        "[5 rows x 7 columns]"
       ]
      }
     ],
     "prompt_number": 44
    },
    {
     "cell_type": "code",
     "collapsed": false,
     "input": [
      "fn = cache_url('http://warehouse.sandiegodata.org/voiceofsandiego.org/d756fd2e-1480-4e30-a355-5e8abe46358b/adjusted_arrivals.csv')\n",
      "df_arr = pd.read_csv(fn)\n",
      "df_apr_arr = df_arr[df_arr.status == 'Approved' ]\n",
      "dfaag = df_apr_arr.groupby('dest').COUNT.sum()\n",
      "dfaag.sort(ascending=False)\n",
      "dfaag"
     ],
     "language": "python",
     "metadata": {},
     "outputs": [
      {
       "metadata": {},
       "output_type": "pyout",
       "prompt_number": 58,
       "text": [
        "dest\n",
        "ORH      2416\n",
        "OLH      2373\n",
        "MOH      2003\n",
        "SYH      1479\n",
        "HTM      1428\n",
        "ELH      1392\n",
        "HTH      1134\n",
        "BVH      1083\n",
        "CVM      1082\n",
        "SOH      1016\n",
        "BVM       982\n",
        "RDM       949\n",
        "CPH       874\n",
        "CVH       772\n",
        "SUH       708\n",
        "MVH       599\n",
        "ELM       491\n",
        "MOM       397\n",
        "CPM       371\n",
        "NCM       358\n",
        "GJH       326\n",
        "SOM       269\n",
        "MVM       255\n",
        "SAILS       2\n",
        "Name: COUNT, dtype: int64"
       ]
      }
     ],
     "prompt_number": 58
    },
    {
     "cell_type": "code",
     "collapsed": false,
     "input": [
      "df = df[df.dest != df.origin]\n",
      "df = df[df.status == 'Approved' ]\n"
     ],
     "language": "python",
     "metadata": {},
     "outputs": [],
     "prompt_number": 61
    },
    {
     "cell_type": "code",
     "collapsed": false,
     "input": [
      "df_group_dest = df.groupby('dest')\n",
      "x = df_group_dest.COUNT.sum()\n",
      "x.sort(ascending=False)\n",
      "x"
     ],
     "language": "python",
     "metadata": {},
     "outputs": [
      {
       "metadata": {},
       "output_type": "pyout",
       "prompt_number": 60,
       "text": [
        "dest\n",
        "ORH      2412\n",
        "OLH      2368\n",
        "MOH      2003\n",
        "SYH      1479\n",
        "HTM      1428\n",
        "ELH      1389\n",
        "HTH      1132\n",
        "BVH      1083\n",
        "CVM      1082\n",
        "SOH      1014\n",
        "BVM       982\n",
        "RDM       948\n",
        "CPH       873\n",
        "CVH       767\n",
        "SUH       708\n",
        "MVH       597\n",
        "ELM       491\n",
        "MOM       397\n",
        "CPM       371\n",
        "NCM       358\n",
        "GJH       325\n",
        "SOM       269\n",
        "MVM       254\n",
        "SAILS       2\n",
        "Name: COUNT, dtype: int64"
       ]
      }
     ],
     "prompt_number": 60
    },
    {
     "cell_type": "code",
     "collapsed": false,
     "input": [
      "df_group_dest = df.groupby('dest')\n",
      "schools = {'CPH': 0, 'CPM': 0, 'SUH': 0, 'MVH': 0, 'CVM': 0, 'GJH': 0, 'OLH': 0, 'SOH': 0, 'SOM': 0, 'ELH': 0,\n",
      "           'ORH': 0, 'CVH': 0, 'ELM': 0, 'RDM': 0, 'SAILS': 0, 'MVM': 0, 'HTM': 0, 'SYH': 0, 'HTH': 0, 'MOH': 0,\n",
      "           'NCM': 0, 'MOM': 0, 'BVH': 0, 'BVM': 0}\n",
      "\n",
      "for school in df_group_dest:\n",
      "    print school[0]\n",
      "    schools[school[0]] = len(school[1])"
     ],
     "language": "python",
     "metadata": {},
     "outputs": [
      {
       "output_type": "stream",
       "stream": "stdout",
       "text": [
        "BVH\n",
        "BVM\n",
        "CPH\n",
        "CPM\n",
        "CVH\n",
        "CVM\n",
        "ELH\n",
        "ELM\n",
        "GJH\n",
        "HTH\n",
        "HTM\n",
        "MOH\n",
        "MOM\n",
        "MVH\n",
        "MVM\n",
        "NCM\n",
        "OLH\n",
        "ORH\n",
        "RDM\n",
        "SAILS\n",
        "SOH\n",
        "SOM\n",
        "SUH\n",
        "SYH\n"
       ]
      }
     ],
     "prompt_number": 18
    },
    {
     "cell_type": "code",
     "collapsed": false,
     "input": [],
     "language": "python",
     "metadata": {},
     "outputs": []
    }
   ],
   "metadata": {}
  }
 ]
}