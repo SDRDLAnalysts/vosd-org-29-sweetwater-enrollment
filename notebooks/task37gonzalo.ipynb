{
 "metadata": {
  "name": "",
  "signature": "sha256:b5851a8cb32bc62b425ac5d57a8573142b65b34782db7b2f4df85bf76dcff4ff"
 },
 "nbformat": 3,
 "nbformat_minor": 0,
 "worksheets": [
  {
   "cells": [
    {
     "cell_type": "markdown",
     "metadata": {},
     "source": [
      "#What\u2019s the most popular/ least popular school?\n",
      "by Gonzalo"
     ]
    },
    {
     "cell_type": "code",
     "collapsed": false,
     "input": [
      "%matplotlib inline\n",
      "import numpy as np\n",
      "import matplotlib as mpl\n",
      "import pandas as pd\n",
      "from  sdipylib.url import cache_url\n",
      "pd.options.display.max_columns = 50"
     ],
     "language": "python",
     "metadata": {},
     "outputs": [],
     "prompt_number": 2
    },
    {
     "cell_type": "code",
     "collapsed": false,
     "input": [
      "fn1 = cache_url('http://warehouse.sandiegodata.org/voiceofsandiego.org/d756fd2e-1480-4e30-a355-5e8abe46358b/adjusted_transfers.csv')\n",
      "fn2 = cache_url('http://warehouse.sandiegodata.org/voiceofsandiego.org/d756fd2e-1480-4e30-a355-5e8abe46358b/sweetwater_transfers.csv')\n",
      "fn3 = cache_url('http://warehouse.sandiegodata.org/voiceofsandiego.org/d756fd2e-1480-4e30-a355-5e8abe46358b/adjusted_arrivals.csv')\n",
      "fn4 = cache_url('http://warehouse.sandiegodata.org/voiceofsandiego.org/d756fd2e-1480-4e30-a355-5e8abe46358b/adjusted_departures.csv')\n",
      "\n",
      "#The Four Datasets\n",
      "adjusted_transfers = pd.read_csv(fn1)\n",
      "sweetwater_transfers = pd.read_csv(fn2)\n",
      "adjusted_arrivals = pd.read_csv(fn3)\n",
      "adjusted_departures = pd.read_csv(fn4)"
     ],
     "language": "python",
     "metadata": {},
     "outputs": [],
     "prompt_number": 7
    },
    {
     "cell_type": "markdown",
     "metadata": {},
     "source": [
      "Let's remove from consideration transfer's within the same school."
     ]
    },
    {
     "cell_type": "code",
     "collapsed": false,
     "input": [
      "notsameschool = sweetwater_transfers.dest != sweetwater_transfers.origin\n",
      "print \"Dropped\",len(sweetwater_transfers)-len(sweetwater_transfers[notsameschool]),\"cases\""
     ],
     "language": "python",
     "metadata": {},
     "outputs": [
      {
       "output_type": "stream",
       "stream": "stdout",
       "text": [
        "Dropped 12 cases\n"
       ]
      }
     ],
     "prompt_number": 106
    },
    {
     "cell_type": "markdown",
     "metadata": {},
     "source": [
      "##Popularity: \n",
      "\n",
      "Schools with highest net of transferring students.\n",
      " - High transfer in.\n",
      " - Low transfer out."
     ]
    },
    {
     "cell_type": "code",
     "collapsed": false,
     "input": [
      "transIN = df.groupby(['dest']).size()\n",
      "transOUT = df.groupby(['origin']).size()\n",
      "transNET = transIN - transOUT\n",
      "\n",
      "transfers = pd.DataFrame({ \n",
      "'net': pd.Series(transNET),\n",
      "'transfer in': pd.Series(transIN),\n",
      "'transfer out': pd.Series(transOUT)\n",
      "}).dropna().sort('net',ascending=False)"
     ],
     "language": "python",
     "metadata": {},
     "outputs": [],
     "prompt_number": 150
    },
    {
     "cell_type": "markdown",
     "metadata": {},
     "source": [
      "#\"Most Popular\" School"
     ]
    },
    {
     "cell_type": "code",
     "collapsed": false,
     "input": [
      "transfers.head(3).plot(kind='bar')\n",
      "transfers.head(3)"
     ],
     "language": "python",
     "metadata": {},
     "outputs": [
      {
       "html": [
        "<div style=\"max-height:1000px;max-width:1500px;overflow:auto;\">\n",
        "<table border=\"1\" class=\"dataframe\">\n",
        "  <thead>\n",
        "    <tr style=\"text-align: right;\">\n",
        "      <th></th>\n",
        "      <th>net</th>\n",
        "      <th>transfer in</th>\n",
        "      <th>transfer out</th>\n",
        "    </tr>\n",
        "  </thead>\n",
        "  <tbody>\n",
        "    <tr>\n",
        "      <th>ORH</th>\n",
        "      <td> 1224</td>\n",
        "      <td> 3238</td>\n",
        "      <td> 2014</td>\n",
        "    </tr>\n",
        "    <tr>\n",
        "      <th>HTM</th>\n",
        "      <td>  973</td>\n",
        "      <td> 2018</td>\n",
        "      <td> 1045</td>\n",
        "    </tr>\n",
        "    <tr>\n",
        "      <th>RDM</th>\n",
        "      <td>  968</td>\n",
        "      <td> 1552</td>\n",
        "      <td>  584</td>\n",
        "    </tr>\n",
        "  </tbody>\n",
        "</table>\n",
        "<p>3 rows \u00d7 3 columns</p>\n",
        "</div>"
       ],
       "metadata": {},
       "output_type": "pyout",
       "prompt_number": 157,
       "text": [
        "      net  transfer in  transfer out\n",
        "ORH  1224         3238          2014\n",
        "HTM   973         2018          1045\n",
        "RDM   968         1552           584\n",
        "\n",
        "[3 rows x 3 columns]"
       ]
      },
      {
       "metadata": {},
       "output_type": "display_data",
       "png": "[encoded data removed]",
       "text": [
        "<matplotlib.figure.Figure at 0x10a7a8a10>"
       ]
      }
     ],
     "prompt_number": 157
    },
    {
     "cell_type": "markdown",
     "metadata": {},
     "source": [
      "#\"Least Popular\" School"
     ]
    },
    {
     "cell_type": "code",
     "collapsed": false,
     "input": [
      "transfers.tail(3).plot(kind='bar')\n",
      "transfers.tail(3)"
     ],
     "language": "python",
     "metadata": {},
     "outputs": [
      {
       "html": [
        "<div style=\"max-height:1000px;max-width:1500px;overflow:auto;\">\n",
        "<table border=\"1\" class=\"dataframe\">\n",
        "  <thead>\n",
        "    <tr style=\"text-align: right;\">\n",
        "      <th></th>\n",
        "      <th>net</th>\n",
        "      <th>transfer in</th>\n",
        "      <th>transfer out</th>\n",
        "    </tr>\n",
        "  </thead>\n",
        "  <tbody>\n",
        "    <tr>\n",
        "      <th>SOH</th>\n",
        "      <td>-1110</td>\n",
        "      <td> 1313</td>\n",
        "      <td> 2423</td>\n",
        "    </tr>\n",
        "    <tr>\n",
        "      <th>CPH</th>\n",
        "      <td>-1727</td>\n",
        "      <td> 1166</td>\n",
        "      <td> 2893</td>\n",
        "    </tr>\n",
        "    <tr>\n",
        "      <th>CPM</th>\n",
        "      <td>-2228</td>\n",
        "      <td>  477</td>\n",
        "      <td> 2705</td>\n",
        "    </tr>\n",
        "  </tbody>\n",
        "</table>\n",
        "<p>3 rows \u00d7 3 columns</p>\n",
        "</div>"
       ],
       "metadata": {},
       "output_type": "pyout",
       "prompt_number": 156,
       "text": [
        "      net  transfer in  transfer out\n",
        "SOH -1110         1313          2423\n",
        "CPH -1727         1166          2893\n",
        "CPM -2228          477          2705\n",
        "\n",
        "[3 rows x 3 columns]"
       ]
      },
      {
       "metadata": {},
       "output_type": "display_data",
       "png": "[encoded data removed]",
       "text": [
        "<matplotlib.figure.Figure at 0x10a7a2950>"
       ]
      }
     ],
     "prompt_number": 156
    },
    {
     "cell_type": "code",
     "collapsed": false,
     "input": [],
     "language": "python",
     "metadata": {},
     "outputs": []
    }
   ],
   "metadata": {}
  }
 ]
}