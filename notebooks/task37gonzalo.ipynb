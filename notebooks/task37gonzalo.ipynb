{
 "metadata": {
  "name": "",
  "signature": "sha256:c60dd96b7068df5a255979fdbeedf9c7f719c0d6196eaa55fef9e213047b5dc7"
 },
 "nbformat": 3,
 "nbformat_minor": 0,
 "worksheets": [
  {
   "cells": [
    {
     "cell_type": "markdown",
     "metadata": {},
     "source": [
      "#What\u2019s the most popular/ least popular school?\n",
      "[Task 37](http://redmine.sandiegodata.org/issues/37)\n",
      "by Gonzalo"
     ]
    },
    {
     "cell_type": "code",
     "collapsed": false,
     "input": [
      "%matplotlib inline\n",
      "import numpy as np\n",
      "import matplotlib as mpl\n",
      "import pandas as pd\n",
      "from  sdipylib.url import cache_url\n"
     ],
     "language": "python",
     "metadata": {},
     "outputs": [],
<<<<<<< .merge_file_CxaLt4
     "prompt_number": 220
=======
     "prompt_number": 1
>>>>>>> .merge_file_zLuWvx
    },
    {
     "cell_type": "code",
     "collapsed": false,
     "input": [
      "#The Data\n",
      "fn = cache_url('http://warehouse.sandiegodata.org/voiceofsandiego.org/d756fd2e-1480-4e30-a355-5e8abe46358b/sweetwater_transfers.csv')\n",
      "sweetwater_transfers = pd.read_csv(fn)"
     ],
     "language": "python",
     "metadata": {},
     "outputs": [],
<<<<<<< .merge_file_CxaLt4
     "prompt_number": 221
=======
     "prompt_number": 3
>>>>>>> .merge_file_zLuWvx
    },
    {
     "cell_type": "code",
     "collapsed": false,
     "input": [
      "#Let's remove from consideration transfer's within the same school.\n",
      "notsameschool = sweetwater_transfers.dest != sweetwater_transfers.origin\n",
      "df = sweetwater_transfers[notsameschool]\n",
      "\n",
      "#Let's consider only APPROVED transfers\n",
      "approved = df.status=='Approved'\n",
      "df = df[approved]"
     ],
     "language": "python",
     "metadata": {},
     "outputs": [],
<<<<<<< .merge_file_CxaLt4
     "prompt_number": 226
=======
     "prompt_number": 4
>>>>>>> .merge_file_zLuWvx
    },
    {
     "cell_type": "markdown",
     "metadata": {},
     "source": [
      "##Popularity: \n",
      "\n",
      "Schools with highest net of transferring students \n",
      "\n",
      "NET = Incoming - Outgoing Transfers"
     ]
    },
    {
     "cell_type": "code",
     "collapsed": false,
     "input": [
      "print \"Considering the year span between\",df.year.min(),\"to\",df.year.max()"
     ],
     "language": "python",
     "metadata": {},
     "outputs": [
      {
       "output_type": "stream",
       "stream": "stdout",
       "text": [
        "Considering the year span between 2008 to 2014\n"
       ]
      }
     ],
     "prompt_number": 5
    },
    {
     "cell_type": "code",
     "collapsed": false,
     "input": [
      "df = df[df.status == 'Approved']\n",
      "transIN = df.groupby(['dest']).size()\n",
      "transOUT = df.groupby(['origin']).size()\n",
      "transNET = transIN - transOUT\n",
      "\n",
      "transfers = pd.DataFrame({ \n",
<<<<<<< .merge_file_CxaLt4
      "                'Net': pd.Series(transNET),\n",
      "                'Arrive': pd.Series(transIN),\n",
      "                'Depart': pd.Series(transOUT)\n",
      "                        }).dropna().sort('Net',ascending=False)"
     ],
     "language": "python",
     "metadata": {},
     "outputs": [],
     "prompt_number": 228
=======
      "'Net': pd.Series(transNET),\n",
      "'Arrive': pd.Series(transIN),\n",
      "'Depart': pd.Series(transOUT)\n",
      "}).dropna().sort('Net',ascending=False)\n",
      "\n",
      "df.groupby(['dest']).size()\n"
     ],
     "language": "python",
     "metadata": {},
     "outputs": [
      {
       "metadata": {},
       "output_type": "pyout",
       "prompt_number": 20,
       "text": [
        "dest\n",
        "BVH      1540\n",
        "BVM      1274\n",
        "CPH      1133\n",
        "CPM       463\n",
        "CVH      1011\n",
        "CVM      1289\n",
        "ELH      1679\n",
        "ELM       591\n",
        "GJH       398\n",
        "HTH      1482\n",
        "HTM      1793\n",
        "MOH      2344\n",
        "MOM       499\n",
        "MVH       806\n",
        "MVM       310\n",
        "NCM       479\n",
        "OLH      2693\n",
        "ORH      2996\n",
        "RDM      1148\n",
        "SAILS      75\n",
        "SOH      1233\n",
        "SOM       341\n",
        "SUH       827\n",
        "SYH      1794\n",
        "dtype: int64"
       ]
      }
     ],
     "prompt_number": 20
>>>>>>> .merge_file_zLuWvx
    },
    {
     "cell_type": "markdown",
     "metadata": {},
     "source": [
      "#\"Most Popular\" School"
     ]
    },
    {
     "cell_type": "code",
     "collapsed": false,
     "input": [
      "transfers.head(3).plot(kind='bar')\n",
      "transfers.head(3)"
     ],
     "language": "python",
     "metadata": {},
     "outputs": [
      {
       "html": [
        "<div style=\"max-height:1000px;max-width:1500px;overflow:auto;\">\n",
        "<table border=\"1\" class=\"dataframe\">\n",
        "  <thead>\n",
        "    <tr style=\"text-align: right;\">\n",
        "      <th></th>\n",
        "      <th>Arrive</th>\n",
        "      <th>Depart</th>\n",
        "      <th>Net</th>\n",
        "    </tr>\n",
        "  </thead>\n",
        "  <tbody>\n",
        "    <tr>\n",
        "      <th>ORH</th>\n",
        "      <td> 2996</td>\n",
        "      <td> 1875</td>\n",
        "      <td> 1121</td>\n",
        "    </tr>\n",
        "    <tr>\n",
        "      <th>OLH</th>\n",
        "      <td> 2693</td>\n",
        "      <td> 1792</td>\n",
        "      <td>  901</td>\n",
        "    </tr>\n",
        "    <tr>\n",
        "      <th>HTM</th>\n",
        "      <td> 1793</td>\n",
        "      <td>  907</td>\n",
        "      <td>  886</td>\n",
        "    </tr>\n",
        "  </tbody>\n",
        "</table>\n",
        "<p>3 rows \u00d7 3 columns</p>\n",
        "</div>"
       ],
       "metadata": {},
       "output_type": "pyout",
       "prompt_number": 229,
       "text": [
        "     Arrive  Depart   Net\n",
        "ORH    2996    1875  1121\n",
        "OLH    2693    1792   901\n",
        "HTM    1793     907   886\n",
        "\n",
        "[3 rows x 3 columns]"
       ]
      },
      {
       "metadata": {},
       "output_type": "display_data",
       "png": "iVBORw0KGgoAAAANSUhEUgAAAXkAAAEHCAYAAABLKzaMAAAABHNCSVQICAgIfAhkiAAAAAlwSFlz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\nRsgDgIv9L7xL1tAuKFrMAAAAAElFTkSuQmCC\n",
       "text": [
        "<matplotlib.figure.Figure at 0x10d4fcc90>"
       ]
      }
     ],
     "prompt_number": 229
    },
    {
     "cell_type": "markdown",
     "metadata": {},
     "source": [
      "School with highest net transferring students is ORH.\n",
      "\n",
      "It is also the school with most incoming transferring students."
     ]
    },
    {
     "cell_type": "code",
     "collapsed": false,
     "input": [
      "transfers.sort('Arrive',ascending=False).head(3)"
     ],
     "language": "python",
     "metadata": {},
     "outputs": [
      {
       "html": [
        "<div style=\"max-height:1000px;max-width:1500px;overflow:auto;\">\n",
        "<table border=\"1\" class=\"dataframe\">\n",
        "  <thead>\n",
        "    <tr style=\"text-align: right;\">\n",
        "      <th></th>\n",
        "      <th>Arrive</th>\n",
        "      <th>Depart</th>\n",
        "      <th>Net</th>\n",
        "    </tr>\n",
        "  </thead>\n",
        "  <tbody>\n",
        "    <tr>\n",
        "      <th>ORH</th>\n",
        "      <td> 2996</td>\n",
        "      <td> 1875</td>\n",
        "      <td> 1121</td>\n",
        "    </tr>\n",
        "    <tr>\n",
        "      <th>OLH</th>\n",
        "      <td> 2693</td>\n",
        "      <td> 1792</td>\n",
        "      <td>  901</td>\n",
        "    </tr>\n",
        "    <tr>\n",
        "      <th>MOH</th>\n",
        "      <td> 2344</td>\n",
        "      <td> 1848</td>\n",
        "      <td>  496</td>\n",
        "    </tr>\n",
        "  </tbody>\n",
        "</table>\n",
        "<p>3 rows \u00d7 3 columns</p>\n",
        "</div>"
       ],
       "metadata": {},
       "output_type": "pyout",
       "prompt_number": 230,
       "text": [
        "     Arrive  Depart   Net\n",
        "ORH    2996    1875  1121\n",
        "OLH    2693    1792   901\n",
        "MOH    2344    1848   496\n",
        "\n",
        "[3 rows x 3 columns]"
       ]
      }
     ],
     "prompt_number": 230
    },
    {
     "cell_type": "markdown",
     "metadata": {},
     "source": [
      "#\"Least Popular\" School"
     ]
    },
    {
     "cell_type": "code",
     "collapsed": false,
     "input": [
      "transfers.tail(3).plot(kind='bar')\n",
      "transfers.tail(3)"
     ],
     "language": "python",
     "metadata": {},
     "outputs": [
      {
       "html": [
        "<div style=\"max-height:1000px;max-width:1500px;overflow:auto;\">\n",
        "<table border=\"1\" class=\"dataframe\">\n",
        "  <thead>\n",
        "    <tr style=\"text-align: right;\">\n",
        "      <th></th>\n",
        "      <th>Arrive</th>\n",
        "      <th>Depart</th>\n",
        "      <th>Net</th>\n",
        "    </tr>\n",
        "  </thead>\n",
        "  <tbody>\n",
        "    <tr>\n",
        "      <th>SOH</th>\n",
        "      <td> 1233</td>\n",
        "      <td> 2259</td>\n",
        "      <td>-1026</td>\n",
        "    </tr>\n",
        "    <tr>\n",
        "      <th>CPH</th>\n",
        "      <td> 1133</td>\n",
        "      <td> 2550</td>\n",
        "      <td>-1417</td>\n",
        "    </tr>\n",
        "    <tr>\n",
        "      <th>CPM</th>\n",
        "      <td>  463</td>\n",
        "      <td> 2216</td>\n",
        "      <td>-1753</td>\n",
        "    </tr>\n",
        "  </tbody>\n",
        "</table>\n",
        "<p>3 rows \u00d7 3 columns</p>\n",
        "</div>"
       ],
       "metadata": {},
       "output_type": "pyout",
       "prompt_number": 231,
       "text": [
        "     Arrive  Depart   Net\n",
        "SOH    1233    2259 -1026\n",
        "CPH    1133    2550 -1417\n",
        "CPM     463    2216 -1753\n",
        "\n",
        "[3 rows x 3 columns]"
       ]
      },
      {
       "metadata": {},
       "output_type": "display_data",
       "png": "iVBORw0KGgoAAAANSUhEUgAAAX8AAAEHCAYAAABGNUbLAAAABHNCSVQICAgIfAhkiAAAAAlwSFlz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\n",
       "text": [
        "<matplotlib.figure.Figure at 0x10d72cd10>"
       ]
      }
     ],
     "prompt_number": 231
    },
    {
     "cell_type": "markdown",
     "metadata": {},
     "source": [
      "The school with the lowest net is CPM. \n",
      "\n",
      "However, CPH has the highest exodus of students in Sweetwater."
     ]
    },
    {
     "cell_type": "code",
     "collapsed": false,
     "input": [
      "transfers.sort('Depart',ascending=False).head(3)"
     ],
     "language": "python",
     "metadata": {},
     "outputs": [
      {
       "html": [
        "<div style=\"max-height:1000px;max-width:1500px;overflow:auto;\">\n",
        "<table border=\"1\" class=\"dataframe\">\n",
        "  <thead>\n",
        "    <tr style=\"text-align: right;\">\n",
        "      <th></th>\n",
        "      <th>Arrive</th>\n",
        "      <th>Depart</th>\n",
        "      <th>Net</th>\n",
        "    </tr>\n",
        "  </thead>\n",
        "  <tbody>\n",
        "    <tr>\n",
        "      <th>CPH</th>\n",
        "      <td> 1133</td>\n",
        "      <td> 2550</td>\n",
        "      <td>-1417</td>\n",
        "    </tr>\n",
        "    <tr>\n",
        "      <th>SOH</th>\n",
        "      <td> 1233</td>\n",
        "      <td> 2259</td>\n",
        "      <td>-1026</td>\n",
        "    </tr>\n",
        "    <tr>\n",
        "      <th>CPM</th>\n",
        "      <td>  463</td>\n",
        "      <td> 2216</td>\n",
        "      <td>-1753</td>\n",
        "    </tr>\n",
        "  </tbody>\n",
        "</table>\n",
        "<p>3 rows \u00d7 3 columns</p>\n",
        "</div>"
       ],
       "metadata": {},
       "output_type": "pyout",
       "prompt_number": 233,
       "text": [
        "     Arrive  Depart   Net\n",
        "CPH    1133    2550 -1417\n",
        "SOH    1233    2259 -1026\n",
        "CPM     463    2216 -1753\n",
        "\n",
        "[3 rows x 3 columns]"
       ]
      }
     ],
     "prompt_number": 233
    }
   ],
   "metadata": {}
  }
 ]
}