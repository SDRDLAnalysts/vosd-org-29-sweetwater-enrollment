{
 "metadata": {
  "name": "",
  "signature": "sha256:8f3ddfff372c1656aeef3bb5c824d57aa5cc11b08c4cc48864a8aefbc5fe5664"
 },
 "nbformat": 3,
 "nbformat_minor": 0,
 "worksheets": [
  {
   "cells": [
    {
     "cell_type": "markdown",
     "metadata": {},
     "source": [
      "#What\u2019s the most popular/ least popular school?\n",
      "[Task 37](http://redmine.sandiegodata.org/issues/37)\n",
      "by Gonzalo"
     ]
    },
    {
     "cell_type": "code",
     "collapsed": false,
     "input": [
      "%matplotlib inline\n",
      "import numpy as np\n",
      "import matplotlib as mpl\n",
      "import pandas as pd\n",
      "from  sdipylib.url import cache_url\n",
      "pd.options.display.max_columns = 50"
     ],
     "language": "python",
     "metadata": {},
     "outputs": [],
     "prompt_number": 159
    },
    {
     "cell_type": "code",
     "collapsed": false,
     "input": [
      "#The Data\n",
      "fn = cache_url('http://warehouse.sandiegodata.org/voiceofsandiego.org/d756fd2e-1480-4e30-a355-5e8abe46358b/sweetwater_transfers.csv')\n",
      "sweetwater_transfers = pd.read_csv(fn)"
     ],
     "language": "python",
     "metadata": {},
     "outputs": [],
     "prompt_number": 192
    },
    {
     "cell_type": "code",
     "collapsed": false,
     "input": [
      "#Let's remove from consideration transfer's within the same school.\n",
      "notsameschool = sweetwater_transfers.dest != sweetwater_transfers.origin\n",
      "df=sweetwater_transfers[notsameschool]"
     ],
     "language": "python",
     "metadata": {},
     "outputs": [],
     "prompt_number": 193
    },
    {
     "cell_type": "markdown",
     "metadata": {},
     "source": [
      "##Popularity: \n",
      "\n",
      "Schools with highest net of transferring students \n",
      "\n",
      "NET = Incoming - Outgoing Transfers"
     ]
    },
    {
     "cell_type": "code",
     "collapsed": false,
     "input": [
      "print \"Considering the year span between\",df.year.min(),\"to\",df.year.max()"
     ],
     "language": "python",
     "metadata": {},
     "outputs": [
      {
       "output_type": "stream",
       "stream": "stdout",
       "text": [
        "Considering the year span between 2008 to 2014\n"
       ]
      }
     ],
     "prompt_number": 217
    },
    {
     "cell_type": "code",
     "collapsed": false,
     "input": [
      "transIN = df.groupby(['dest']).size()\n",
      "transOUT = df.groupby(['origin']).size()\n",
      "transNET = transIN - transOUT\n",
      "\n",
      "transfers = pd.DataFrame({ \n",
      "'Net': pd.Series(transNET),\n",
      "'Arrive': pd.Series(transIN),\n",
      "'Depart': pd.Series(transOUT)\n",
      "}).dropna().sort('Net',ascending=False)"
     ],
     "language": "python",
     "metadata": {},
     "outputs": [],
     "prompt_number": 188
    },
    {
     "cell_type": "markdown",
     "metadata": {},
     "source": [
      "#\"Most Popular\" School"
     ]
    },
    {
     "cell_type": "code",
     "collapsed": false,
     "input": [
      "transfers.head(3).plot(kind='bar')\n",
      "transfers.head(3)"
     ],
     "language": "python",
     "metadata": {},
     "outputs": [
      {
       "html": [
        "<div style=\"max-height:1000px;max-width:1500px;overflow:auto;\">\n",
        "<table border=\"1\" class=\"dataframe\">\n",
        "  <thead>\n",
        "    <tr style=\"text-align: right;\">\n",
        "      <th></th>\n",
        "      <th>Arrive</th>\n",
        "      <th>Depart</th>\n",
        "      <th>Net</th>\n",
        "    </tr>\n",
        "  </thead>\n",
        "  <tbody>\n",
        "    <tr>\n",
        "      <th>ORH</th>\n",
        "      <td> 3238</td>\n",
        "      <td> 2014</td>\n",
        "      <td> 1224</td>\n",
        "    </tr>\n",
        "    <tr>\n",
        "      <th>HTM</th>\n",
        "      <td> 2018</td>\n",
        "      <td> 1045</td>\n",
        "      <td>  973</td>\n",
        "    </tr>\n",
        "    <tr>\n",
        "      <th>RDM</th>\n",
        "      <td> 1552</td>\n",
        "      <td>  584</td>\n",
        "      <td>  968</td>\n",
        "    </tr>\n",
        "  </tbody>\n",
        "</table>\n",
        "<p>3 rows \u00d7 3 columns</p>\n",
        "</div>"
       ],
       "metadata": {},
       "output_type": "pyout",
       "prompt_number": 189,
       "text": [
        "     Arrive  Depart   Net\n",
        "ORH    3238    2014  1224\n",
        "HTM    2018    1045   973\n",
        "RDM    1552     584   968\n",
        "\n",
        "[3 rows x 3 columns]"
       ]
      },
      {
       "metadata": {},
       "output_type": "display_data",
       "png": "[encoded data removed]",
       "text": [
        "<matplotlib.figure.Figure at 0x10d727e10>"
       ]
      }
     ],
     "prompt_number": 189
    },
    {
     "cell_type": "markdown",
     "metadata": {},
     "source": [
      "School with highest net transferring students is ORH.\n",
      "\n",
      "It is also the school with most incoming transferring students."
     ]
    },
    {
     "cell_type": "code",
     "collapsed": false,
     "input": [
      "transfers.sort('Arrive',ascending=False).head(3)"
     ],
     "language": "python",
     "metadata": {},
     "outputs": [
      {
       "html": [
        "<div style=\"max-height:1000px;max-width:1500px;overflow:auto;\">\n",
        "<table border=\"1\" class=\"dataframe\">\n",
        "  <thead>\n",
        "    <tr style=\"text-align: right;\">\n",
        "      <th></th>\n",
        "      <th>Arrive</th>\n",
        "      <th>Depart</th>\n",
        "      <th>Net</th>\n",
        "    </tr>\n",
        "  </thead>\n",
        "  <tbody>\n",
        "    <tr>\n",
        "      <th>ORH</th>\n",
        "      <td> 3238</td>\n",
        "      <td> 2014</td>\n",
        "      <td> 1224</td>\n",
        "    </tr>\n",
        "    <tr>\n",
        "      <th>OLH</th>\n",
        "      <td> 2823</td>\n",
        "      <td> 1965</td>\n",
        "      <td>  858</td>\n",
        "    </tr>\n",
        "    <tr>\n",
        "      <th>MOH</th>\n",
        "      <td> 2439</td>\n",
        "      <td> 1987</td>\n",
        "      <td>  452</td>\n",
        "    </tr>\n",
        "  </tbody>\n",
        "</table>\n",
        "<p>3 rows \u00d7 3 columns</p>\n",
        "</div>"
       ],
       "metadata": {},
       "output_type": "pyout",
       "prompt_number": 212,
       "text": [
        "     Arrive  Depart   Net\n",
        "ORH    3238    2014  1224\n",
        "OLH    2823    1965   858\n",
        "MOH    2439    1987   452\n",
        "\n",
        "[3 rows x 3 columns]"
       ]
      }
     ],
     "prompt_number": 212
    },
    {
     "cell_type": "markdown",
     "metadata": {},
     "source": [
      "#\"Least Popular\" School"
     ]
    },
    {
     "cell_type": "code",
     "collapsed": false,
     "input": [
      "transfers.tail(3).plot(kind='bar')\n",
      "transfers.tail(3)"
     ],
     "language": "python",
     "metadata": {},
     "outputs": [
      {
       "html": [
        "<div style=\"max-height:1000px;max-width:1500px;overflow:auto;\">\n",
        "<table border=\"1\" class=\"dataframe\">\n",
        "  <thead>\n",
        "    <tr style=\"text-align: right;\">\n",
        "      <th></th>\n",
        "      <th>Arrive</th>\n",
        "      <th>Depart</th>\n",
        "      <th>Net</th>\n",
        "    </tr>\n",
        "  </thead>\n",
        "  <tbody>\n",
        "    <tr>\n",
        "      <th>SOH</th>\n",
        "      <td> 1313</td>\n",
        "      <td> 2423</td>\n",
        "      <td>-1110</td>\n",
        "    </tr>\n",
        "    <tr>\n",
        "      <th>CPH</th>\n",
        "      <td> 1166</td>\n",
        "      <td> 2893</td>\n",
        "      <td>-1727</td>\n",
        "    </tr>\n",
        "    <tr>\n",
        "      <th>CPM</th>\n",
        "      <td>  477</td>\n",
        "      <td> 2705</td>\n",
        "      <td>-2228</td>\n",
        "    </tr>\n",
        "  </tbody>\n",
        "</table>\n",
        "<p>3 rows \u00d7 3 columns</p>\n",
        "</div>"
       ],
       "metadata": {},
       "output_type": "pyout",
       "prompt_number": 190,
       "text": [
        "     Arrive  Depart   Net\n",
        "SOH    1313    2423 -1110\n",
        "CPH    1166    2893 -1727\n",
        "CPM     477    2705 -2228\n",
        "\n",
        "[3 rows x 3 columns]"
       ]
      },
      {
       "metadata": {},
       "output_type": "display_data",
       "png": "[encoded data removed]",
       "text": [
        "<matplotlib.figure.Figure at 0x10c610310>"
       ]
      }
     ],
     "prompt_number": 190
    },
    {
     "cell_type": "markdown",
     "metadata": {},
     "source": [
      "The school with the lowest net is CPM. \n",
      "\n",
      "However, CPH has the highest exodus of students in Sweetwater."
     ]
    },
    {
     "cell_type": "code",
     "collapsed": false,
     "input": [
      "transfers.sort('Depart',ascending=False).head()"
     ],
     "language": "python",
     "metadata": {},
     "outputs": [
      {
       "html": [
        "<div style=\"max-height:1000px;max-width:1500px;overflow:auto;\">\n",
        "<table border=\"1\" class=\"dataframe\">\n",
        "  <thead>\n",
        "    <tr style=\"text-align: right;\">\n",
        "      <th></th>\n",
        "      <th>Arrive</th>\n",
        "      <th>Depart</th>\n",
        "      <th>Net</th>\n",
        "    </tr>\n",
        "  </thead>\n",
        "  <tbody>\n",
        "    <tr>\n",
        "      <th>CPH</th>\n",
        "      <td> 1166</td>\n",
        "      <td> 2893</td>\n",
        "      <td>-1727</td>\n",
        "    </tr>\n",
        "    <tr>\n",
        "      <th>CPM</th>\n",
        "      <td>  477</td>\n",
        "      <td> 2705</td>\n",
        "      <td>-2228</td>\n",
        "    </tr>\n",
        "    <tr>\n",
        "      <th>SOH</th>\n",
        "      <td> 1313</td>\n",
        "      <td> 2423</td>\n",
        "      <td>-1110</td>\n",
        "    </tr>\n",
        "    <tr>\n",
        "      <th>SYH</th>\n",
        "      <td> 1890</td>\n",
        "      <td> 2239</td>\n",
        "      <td> -349</td>\n",
        "    </tr>\n",
        "    <tr>\n",
        "      <th>ORH</th>\n",
        "      <td> 3238</td>\n",
        "      <td> 2014</td>\n",
        "      <td> 1224</td>\n",
        "    </tr>\n",
        "  </tbody>\n",
        "</table>\n",
        "<p>5 rows \u00d7 3 columns</p>\n",
        "</div>"
       ],
       "metadata": {},
       "output_type": "pyout",
       "prompt_number": 215,
       "text": [
        "     Arrive  Depart   Net\n",
        "CPH    1166    2893 -1727\n",
        "CPM     477    2705 -2228\n",
        "SOH    1313    2423 -1110\n",
        "SYH    1890    2239  -349\n",
        "ORH    3238    2014  1224\n",
        "\n",
        "[5 rows x 3 columns]"
       ]
      }
     ],
     "prompt_number": 215
    }
   ],
   "metadata": {}
  }
 ]
}