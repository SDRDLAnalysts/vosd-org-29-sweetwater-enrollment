{
 "metadata": {
  "name": "",
  "signature": "sha256:e9dd73916736227978b828df14f3d21be44394caf67009cb42f9197cd31663c1"
 },
 "nbformat": 3,
 "nbformat_minor": 0,
 "worksheets": [
  {
   "cells": [
    {
     "cell_type": "code",
     "collapsed": false,
     "input": [
      "%matplotlib inline\n",
      "import numpy as np\n",
      "import matplotlib as mpl\n",
      "import pandas as pd\n",
      "from  sdipylib.url import cache_url\n",
      "pd.options.display.max_columns = 500\n",
      "pd.__version__"
     ],
     "language": "python",
     "metadata": {},
     "outputs": [
      {
       "metadata": {},
       "output_type": "pyout",
       "prompt_number": 38,
       "text": [
        "'0.14.1'"
       ]
      }
     ],
     "prompt_number": 38
    },
    {
     "cell_type": "code",
     "collapsed": false,
     "input": [
      "fn = cache_url('http://warehouse.sandiegodata.org/voiceofsandiego.org/d756fd2e-1480-4e30-a355-5e8abe46358b/sweetwater_transfers.csv')\n",
      "df = pd.read_csv(fn)"
     ],
     "language": "python",
     "metadata": {},
     "outputs": [],
     "prompt_number": 39
    },
    {
     "cell_type": "code",
     "collapsed": false,
     "input": [
      "school_zip = {'BVH': 91913, 'BVM': 91910, 'CPH': 91911, 'CPM': 91911, 'CVH': 91911, 'CVM': 91910, 'ELH': 91915, \n",
      "              'ELM': 91914, 'GJH': 91950, 'HTH': 91910, 'HTM': 91910, 'MOH': 92154, 'MOM': 92154, 'MVH': 91932, \n",
      "              'MVM': 92154, 'NCM': 91950, 'OLH': 91913, 'ORH': 91913, 'RDM': 91910, 'SAILS': 91911, 'SOH': 92154, \n",
      "              'SOM': 92154, 'SUH': 91950, 'SYH': 92154}\n",
      "\n",
      "df_zip = pd.DataFrame({'year': df['year'],'origin': df['origin'], 'origin_zip': df['year'], 'dest': df['dest'], \n",
      "                       'dest_zip': df['year'], 'status': df['status']})\n",
      "\n",
      "df_zip = df_zip[['year','origin','origin_zip','dest','dest_zip','status']]\n",
      "\n",
      "df_zip.dest_zip = df.dest.apply(lambda school: school_zip[school] if (school in school_zip) else 0)\n",
      "df_zip.origin_zip = df.origin.apply(lambda school: school_zip[school] if (school in school_zip) else 0)"
     ],
     "language": "python",
     "metadata": {},
     "outputs": [],
     "prompt_number": 67
    },
    {
     "cell_type": "code",
     "collapsed": false,
     "input": [
      "df_zip.to_csv('df_zip.csv')"
     ],
     "language": "python",
     "metadata": {},
     "outputs": [],
     "prompt_number": 69
    }
   ],
   "metadata": {}
  }
 ]
}