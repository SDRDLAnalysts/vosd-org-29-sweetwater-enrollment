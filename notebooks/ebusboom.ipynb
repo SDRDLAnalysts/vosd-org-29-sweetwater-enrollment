{
 "metadata": {
  "name": "",
  "signature": "sha256:047688ae671ff820fe7ec90260b667bde43e1f213450e64ba42aa92141b6e193"
 },
 "nbformat": 3,
 "nbformat_minor": 0,
 "worksheets": [
  {
   "cells": [
    {
     "cell_type": "code",
     "collapsed": false,
     "input": [
      "%matplotlib inline\n",
      "import numpy as np\n",
      "import matplotlib as mpl\n",
      "import pandas as pd\n",
      "from  sdipylib.url import cache_url\n",
      "pd.options.display.max_columns = 50"
     ],
     "language": "python",
     "metadata": {},
     "outputs": [],
     "prompt_number": 2
    },
    {
     "cell_type": "code",
     "collapsed": false,
     "input": [
      "fn = cache_url('http://warehouse.sandiegodata.org/voiceofsandiego.org/d756fd2e-1480-4e30-a355-5e8abe46358b/adjusted_transfers.csv')\n",
      "df = pd.read_csv(fn)\n",
      "df.head()"
     ],
     "language": "python",
     "metadata": {},
     "outputs": [
      {
       "output_type": "stream",
       "stream": "stdout",
       "text": [
        "Wrote 52850 bytes, total 52850\n"
       ]
      },
      {
       "html": [
        "<div style=\"max-height:1000px;max-width:1500px;overflow:auto;\">\n",
        "<table border=\"1\" class=\"dataframe\">\n",
        "  <thead>\n",
        "    <tr style=\"text-align: right;\">\n",
        "      <th></th>\n",
        "      <th>year</th>\n",
        "      <th>origin</th>\n",
        "      <th>dest</th>\n",
        "      <th>status</th>\n",
        "      <th>COUNT</th>\n",
        "      <th>origin_enrolled</th>\n",
        "      <th>adj_count</th>\n",
        "    </tr>\n",
        "  </thead>\n",
        "  <tbody>\n",
        "    <tr>\n",
        "      <th>0</th>\n",
        "      <td> 2009</td>\n",
        "      <td> BVH</td>\n",
        "      <td> CPH</td>\n",
        "      <td> Approved</td>\n",
        "      <td>  7</td>\n",
        "      <td> 2368</td>\n",
        "      <td>  295</td>\n",
        "    </tr>\n",
        "    <tr>\n",
        "      <th>1</th>\n",
        "      <td> 2009</td>\n",
        "      <td> BVH</td>\n",
        "      <td> CVH</td>\n",
        "      <td> Approved</td>\n",
        "      <td>  3</td>\n",
        "      <td> 2368</td>\n",
        "      <td>  126</td>\n",
        "    </tr>\n",
        "    <tr>\n",
        "      <th>2</th>\n",
        "      <td> 2009</td>\n",
        "      <td> BVH</td>\n",
        "      <td> ELH</td>\n",
        "      <td> Approved</td>\n",
        "      <td> 38</td>\n",
        "      <td> 2368</td>\n",
        "      <td> 1604</td>\n",
        "    </tr>\n",
        "    <tr>\n",
        "      <th>3</th>\n",
        "      <td> 2009</td>\n",
        "      <td> BVH</td>\n",
        "      <td> ELH</td>\n",
        "      <td>   Denied</td>\n",
        "      <td>  8</td>\n",
        "      <td> 2368</td>\n",
        "      <td>  337</td>\n",
        "    </tr>\n",
        "    <tr>\n",
        "      <th>4</th>\n",
        "      <td> 2009</td>\n",
        "      <td> BVH</td>\n",
        "      <td> HTH</td>\n",
        "      <td> Approved</td>\n",
        "      <td> 10</td>\n",
        "      <td> 2368</td>\n",
        "      <td>  422</td>\n",
        "    </tr>\n",
        "  </tbody>\n",
        "</table>\n",
        "<p>5 rows \u00d7 7 columns</p>\n",
        "</div>"
       ],
       "metadata": {},
       "output_type": "pyout",
       "prompt_number": 4,
       "text": [
        "   year origin dest    status  COUNT  origin_enrolled  adj_count\n",
        "0  2009    BVH  CPH  Approved      7             2368        295\n",
        "1  2009    BVH  CVH  Approved      3             2368        126\n",
        "2  2009    BVH  ELH  Approved     38             2368       1604\n",
        "3  2009    BVH  ELH    Denied      8             2368        337\n",
        "4  2009    BVH  HTH  Approved     10             2368        422\n",
        "\n",
        "[5 rows x 7 columns]"
       ]
      }
     ],
     "prompt_number": 4
    },
    {
     "cell_type": "code",
     "collapsed": false,
     "input": [],
     "language": "python",
     "metadata": {},
     "outputs": []
    }
   ],
   "metadata": {}
  }
 ]
}