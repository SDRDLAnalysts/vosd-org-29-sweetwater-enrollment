{
 "metadata": {
  "name": "",
  "signature": "sha256:91d3d4ee9521b97031f01bca821891c14aad7ecef2233a7954f30b5196dc6967"
 },
 "nbformat": 3,
 "nbformat_minor": 0,
 "worksheets": [
  {
   "cells": [
    {
     "cell_type": "code",
     "collapsed": false,
     "input": [
      "%matplotlib inline\n",
      "import numpy as np\n",
      "import matplotlib as mpl\n",
      "import pandas as pd\n",
      "from  sdipylib.url import cache_url\n",
      "pd.options.display.max_columns = 50"
     ],
     "language": "python",
     "metadata": {},
     "outputs": [],
     "prompt_number": 2
    },
    {
     "cell_type": "code",
     "collapsed": false,
     "input": [
      "fn = cache_url('http://warehouse.sandiegodata.org/voiceofsandiego.org/d756fd2e-1480-4e30-a355-5e8abe46358b/sweetwater_transfers.csv')\n",
      "df = pd.read_csv(fn)\n",
      "df = df[df.dest != df.origin] # removes all same origin-destination entries\n",
      "df = df[df['status'] == 'Approved'] # removes all non approved entries"
     ],
     "language": "python",
     "metadata": {},
     "outputs": [],
     "prompt_number": 3
    },
    {
     "cell_type": "heading",
     "level": 6,
     "metadata": {},
     "source": [
      "Which school received the most requests to transfer to?"
     ]
    },
    {
     "cell_type": "markdown",
     "metadata": {},
     "source": [
      "task #31 by Elly"
     ]
    },
    {
     "cell_type": "code",
     "collapsed": false,
     "input": [
      "grouped = df.groupby('dest').size().order(ascending=False)\n",
      "i = 0\n",
      "for school in grouped[:10]:\n",
      "    print 'School {1} is ranked {0} in most received requests to transfer to: {2} requests'.format(i + 1, grouped.index[i], school)\n",
      "    i += 1\n"
     ],
     "language": "python",
     "metadata": {},
     "outputs": [
      {
       "output_type": "stream",
       "stream": "stdout",
       "text": [
        "School ORH is ranked 1 in most received requests to transfer to: 2996 requests\n",
        "School OLH is ranked 2 in most received requests to transfer to: 2693 requests\n",
        "School MOH is ranked 3 in most received requests to transfer to: 2344 requests\n",
        "School SYH is ranked 4 in most received requests to transfer to: 1794 requests\n",
        "School HTM is ranked 5 in most received requests to transfer to: 1793 requests\n",
        "School ELH is ranked 6 in most received requests to transfer to: 1679 requests\n",
        "School BVH is ranked 7 in most received requests to transfer to: 1540 requests\n",
        "School HTH is ranked 8 in most received requests to transfer to: 1482 requests\n",
        "School CVM is ranked 9 in most received requests to transfer to: 1289 requests\n",
        "School BVM is ranked 10 in most received requests to transfer to: 1274 requests\n"
       ]
      }
     ],
     "prompt_number": 27
    }
   ],
   "metadata": {}
  }
 ]
}