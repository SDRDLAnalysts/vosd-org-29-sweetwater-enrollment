{
 "metadata": {
  "name": "",
  "signature": "sha256:f4c1ece77540f64974a13828ab40e1f0fa65efe29084f99ddef122f028f0c644"
 },
 "nbformat": 3,
 "nbformat_minor": 0,
 "worksheets": [
  {
   "cells": [
    {
     "cell_type": "code",
     "collapsed": false,
     "input": [
      "%matplotlib inline\n",
      "import numpy as np\n",
      "import matplotlib as mpl\n",
      "import pandas as pd\n",
      "from  sdipylib.url import cache_url\n",
      "pd.options.display.max_columns = 50"
     ],
     "language": "python",
     "metadata": {},
     "outputs": [],
     "prompt_number": 21
    },
    {
     "cell_type": "code",
     "collapsed": false,
     "input": [
      "fn = cache_url('http://warehouse.sandiegodata.org/voiceofsandiego.org/d756fd2e-1480-4e30-a355-5e8abe46358b/sweetwater_transfers.csv')\n",
      "df = pd.read_csv(fn)\n",
      "notsameschool = df.dest != df.origin\n",
      "df = df[notsameschool]"
     ],
     "language": "python",
     "metadata": {},
     "outputs": [],
     "prompt_number": 22
    },
    {
     "cell_type": "heading",
     "level": 6,
     "metadata": {},
     "source": [
      "Which school received the most requests to transfer to?"
     ]
    },
    {
     "cell_type": "markdown",
     "metadata": {},
     "source": [
      "task #31 by Elly"
     ]
    },
    {
     "cell_type": "code",
     "collapsed": false,
     "input": [
      "df_group_dest = df.groupby('dest')\n",
      "schools = {'CPH': 0, 'CPM': 0, 'SUH': 0, 'MVH': 0, 'CVM': 0, 'GJH': 0, 'OLH': 0, 'SOH': 0, 'SOM': 0, 'ELH': 0,\n",
      "           'ORH': 0, 'CVH': 0, 'ELM': 0, 'RDM': 0, 'SAILS': 0, 'MVM': 0, 'HTM': 0, 'SYH': 0, 'HTH': 0, 'MOH': 0,\n",
      "           'NCM': 0, 'MOM': 0, 'BVH': 0, 'BVM': 0}\n",
      "\n",
      "for school in df_group_dest:\n",
      "    schools[school[0]] = len(school[1])\n",
      "\n",
      "print 'School', max(schools), 'received the most requests to transfer to:', schools[max(schools)], 'requests.'"
     ],
     "language": "python",
     "metadata": {},
     "outputs": [
      {
       "output_type": "stream",
       "stream": "stdout",
       "text": [
        "School SYH received the most requests to transfer to: 1890 requests.\n"
       ]
      }
     ],
     "prompt_number": 23
    }
   ],
   "metadata": {}
  }
 ]
}