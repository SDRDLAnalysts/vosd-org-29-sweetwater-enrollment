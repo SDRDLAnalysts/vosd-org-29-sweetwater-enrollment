{
 "metadata": {
  "name": "",
  "signature": "sha256:d03d545b41b8e81d649e0c487730866997901db10d9f1d39e5bc5e2ee38f8abf"
 },
 "nbformat": 3,
 "nbformat_minor": 0,
 "worksheets": [
  {
   "cells": [
    {
     "cell_type": "code",
     "collapsed": false,
     "input": [
      "%matplotlib inline\n",
      "import numpy as np\n",
      "import matplotlib as mpl\n",
      "import pandas as pd\n",
      "from  sdipylib.url import cache_url\n",
      "\n",
      "fn = cache_url('http://warehouse.sandiegodata.org/voiceofsandiego.org/d756fd2e-1480-4e30-a355-5e8abe46358b/sweetwater_transfers.csv')\n",
      "df = pd.read_csv(fn)"
     ],
     "language": "python",
     "metadata": {},
     "outputs": [],
     "prompt_number": 2
    },
    {
     "cell_type": "code",
     "collapsed": false,
     "input": [
      "df.info()\n",
      "print \"\"\n",
      "print \"\"\n",
      "print \"Data spans from\", df.year.min(),\"to\", df.year.max() "
     ],
     "language": "python",
     "metadata": {},
     "outputs": [
      {
       "output_type": "stream",
       "stream": "stdout",
       "text": [
        "<class 'pandas.core.frame.DataFrame'>\n",
        "Int64Index: 28198 entries, 0 to 31383\n",
        "Data columns (total 5 columns):\n",
        "id        28198 non-null int64\n",
        "year      28198 non-null int64\n",
        "dest      28198 non-null object\n",
        "origin    28195 non-null object\n",
        "status    28198 non-null object\n",
        "dtypes: int64(2), object(3)\n",
        "\n",
        "Data spans from 2008 to 2014\n"
       ]
      }
     ],
     "prompt_number": 133
    },
    {
     "cell_type": "code",
     "collapsed": false,
     "input": [
      "df['origin'] = df['origin'].str.replace('ORH ','ORH')\n",
      "df['origin'] = df['origin'].str.replace('cpH','CPH')\n",
      "df['origin'] = df['origin'].str.replace('bVH','BVH')"
     ],
     "language": "python",
     "metadata": {},
     "outputs": [],
     "prompt_number": 160
    },
    {
     "cell_type": "markdown",
     "metadata": {},
     "source": [
      "#vosd.org: sweetwater enrollment analysis\n",
      "\n",
      "###Overview \n",
      "Answer basic questions about Sweetwater high school student enrollments based on client supplied data.\n",
      "* [Data Warehouse](http://warehouse.sandiegodata.org/voiceofsandiego.org/d756fd2e-1480-4e30-a355-5e8abe46358b/index.html)\n",
      "\n",
      "###Members\n",
      "\n",
      "* Managers: Eric Busboom, Gonzalo Urrutia\n",
      "* Developer: Elly Poretsky, Gelliza Gervacio, Kevin Hung, Raj Shah, Russia Madden\n"
     ]
    },
    {
     "cell_type": "markdown",
     "metadata": {},
     "source": [
      "----"
     ]
    },
    {
     "cell_type": "markdown",
     "metadata": {},
     "source": [
      "## Spreadsheet from input files\n",
      "\n",
      "A 6 Column Spreadsheet with this info: Year, Home School, Zip Code of Home School, Desired School to Transfer to, Zip Code of Desired School, and Approved/Denied\n",
      "\n",
      "Below is a quick glimpse at the csv file, which you can download here ([link](https://raw.githubusercontent.com/SDRDLAnalysts/vosd-org-29-sweetwater-enrollment/master/notebooks/sweetwater_transfers_zip.csv))"
     ]
    },
    {
     "cell_type": "code",
     "collapsed": false,
     "input": [
      "six = pd.read_csv('https://raw.githubusercontent.com/SDRDLAnalysts/vosd-org-29-sweetwater-enrollment/master/notebooks/sweetwater_transfers_zip.csv')\n",
      "six.head()"
     ],
     "language": "python",
     "metadata": {},
     "outputs": [
      {
       "html": [
        "<div style=\"max-height:1000px;max-width:1500px;overflow:auto;\">\n",
        "<table border=\"1\" class=\"dataframe\">\n",
        "  <thead>\n",
        "    <tr style=\"text-align: right;\">\n",
        "      <th></th>\n",
        "      <th>Unnamed: 0</th>\n",
        "      <th>year</th>\n",
        "      <th>origin</th>\n",
        "      <th>origin_zip</th>\n",
        "      <th>dest</th>\n",
        "      <th>dest_zip</th>\n",
        "      <th>status</th>\n",
        "    </tr>\n",
        "  </thead>\n",
        "  <tbody>\n",
        "    <tr>\n",
        "      <th>0</th>\n",
        "      <td> 0</td>\n",
        "      <td> 2012</td>\n",
        "      <td> ORH</td>\n",
        "      <td> 91913</td>\n",
        "      <td> BVH</td>\n",
        "      <td> 91913</td>\n",
        "      <td> Approved</td>\n",
        "    </tr>\n",
        "    <tr>\n",
        "      <th>1</th>\n",
        "      <td> 1</td>\n",
        "      <td> 2012</td>\n",
        "      <td> ELH</td>\n",
        "      <td> 91915</td>\n",
        "      <td> BVH</td>\n",
        "      <td> 91913</td>\n",
        "      <td> Approved</td>\n",
        "    </tr>\n",
        "    <tr>\n",
        "      <th>2</th>\n",
        "      <td> 2</td>\n",
        "      <td> 2012</td>\n",
        "      <td> CPH</td>\n",
        "      <td> 91911</td>\n",
        "      <td> BVH</td>\n",
        "      <td> 91913</td>\n",
        "      <td> Approved</td>\n",
        "    </tr>\n",
        "    <tr>\n",
        "      <th>3</th>\n",
        "      <td> 3</td>\n",
        "      <td> 2012</td>\n",
        "      <td> CVH</td>\n",
        "      <td> 91911</td>\n",
        "      <td> BVH</td>\n",
        "      <td> 91913</td>\n",
        "      <td> Approved</td>\n",
        "    </tr>\n",
        "    <tr>\n",
        "      <th>4</th>\n",
        "      <td> 4</td>\n",
        "      <td> 2012</td>\n",
        "      <td> CVH</td>\n",
        "      <td> 91911</td>\n",
        "      <td> BVH</td>\n",
        "      <td> 91913</td>\n",
        "      <td> Approved</td>\n",
        "    </tr>\n",
        "  </tbody>\n",
        "</table>\n",
        "<p>5 rows \u00d7 7 columns</p>\n",
        "</div>"
       ],
       "metadata": {},
       "output_type": "pyout",
       "prompt_number": 162,
       "text": [
        "   Unnamed: 0  year origin  origin_zip dest  dest_zip    status\n",
        "0           0  2012    ORH       91913  BVH     91913  Approved\n",
        "1           1  2012    ELH       91915  BVH     91913  Approved\n",
        "2           2  2012    CPH       91911  BVH     91913  Approved\n",
        "3           3  2012    CVH       91911  BVH     91913  Approved\n",
        "4           4  2012    CVH       91911  BVH     91913  Approved\n",
        "\n",
        "[5 rows x 7 columns]"
       ]
      }
     ],
     "prompt_number": 162
    },
    {
     "cell_type": "markdown",
     "metadata": {},
     "source": [
      "##1.  Which school received the most requests to transfer to?\n",
      "\n",
      "We interpreted this question as which school received the most transfer requests (both incoming and outgoing). As seen in the table below, ORH received the most transfer requests, followed by OLH and MOH."
     ]
    },
    {
     "cell_type": "code",
     "collapsed": false,
     "input": [
      "notsameschool = df.dest != df.origin\n",
      "df=df[notsameschool]\n",
      "\n",
      "dest = df.groupby('dest').size()\n",
      "orig = df.groupby('origin').size()\n",
      "\n",
      "count = pd.DataFrame({'Transfer In Requests': pd.Series(dest),\n",
      "                      'Transfer Out Requests': pd.Series(orig)\n",
      "                      })\n",
      "count = count.fillna(0)\n",
      "count['Total Requests'] = count['Transfer In Requests']+count['Transfer Out Requests']\n",
      "count = count.sort('Total Requests',ascending=False).dropna()\n",
      "count = count[['Total Requests','Transfer In Requests','Transfer Out Requests']]\n",
      "print \"Table sorted by 'Total Requests'\"\n",
      "count.head(3)"
     ],
     "language": "python",
     "metadata": {},
     "outputs": [
      {
       "output_type": "stream",
       "stream": "stdout",
       "text": [
        "Table sorted by 'Total Requests'\n"
       ]
      },
      {
       "html": [
        "<div style=\"max-height:1000px;max-width:1500px;overflow:auto;\">\n",
        "<table border=\"1\" class=\"dataframe\">\n",
        "  <thead>\n",
        "    <tr style=\"text-align: right;\">\n",
        "      <th></th>\n",
        "      <th>Total Requests</th>\n",
        "      <th>Transfer In Requests</th>\n",
        "      <th>Transfer Out Requests</th>\n",
        "    </tr>\n",
        "  </thead>\n",
        "  <tbody>\n",
        "    <tr>\n",
        "      <th>ORH</th>\n",
        "      <td> 5252</td>\n",
        "      <td> 3238</td>\n",
        "      <td> 2014</td>\n",
        "    </tr>\n",
        "    <tr>\n",
        "      <th>OLH</th>\n",
        "      <td> 4788</td>\n",
        "      <td> 2823</td>\n",
        "      <td> 1965</td>\n",
        "    </tr>\n",
        "    <tr>\n",
        "      <th>MOH</th>\n",
        "      <td> 4426</td>\n",
        "      <td> 2439</td>\n",
        "      <td> 1987</td>\n",
        "    </tr>\n",
        "  </tbody>\n",
        "</table>\n",
        "<p>3 rows \u00d7 3 columns</p>\n",
        "</div>"
       ],
       "metadata": {},
       "output_type": "pyout",
       "prompt_number": 105,
       "text": [
        "     Total Requests  Transfer In Requests  Transfer Out Requests\n",
        "ORH            5252                  3238                   2014\n",
        "OLH            4788                  2823                   1965\n",
        "MOH            4426                  2439                   1987\n",
        "\n",
        "[3 rows x 3 columns]"
       ]
      }
     ],
     "prompt_number": 105
    },
    {
     "cell_type": "markdown",
     "metadata": {},
     "source": [
      "However, if we were to consider which school received the most incoming transfer requests, then we would find that ORH also leads the board."
     ]
    },
    {
     "cell_type": "code",
     "collapsed": false,
     "input": [
      "count1 = count.sort('Transfer In Requests',ascending=False).dropna()\n",
      "count1 = count1[['Transfer In Requests']]\n",
      "print \"Table sorted by 'Transfer In Requests'\"\n",
      "count1.head(3)"
     ],
     "language": "python",
     "metadata": {},
     "outputs": [
      {
       "output_type": "stream",
       "stream": "stdout",
       "text": [
        "Table sorted by 'Transfer In Requests'\n"
       ]
      },
      {
       "html": [
        "<div style=\"max-height:1000px;max-width:1500px;overflow:auto;\">\n",
        "<table border=\"1\" class=\"dataframe\">\n",
        "  <thead>\n",
        "    <tr style=\"text-align: right;\">\n",
        "      <th></th>\n",
        "      <th>Transfer In Requests</th>\n",
        "    </tr>\n",
        "  </thead>\n",
        "  <tbody>\n",
        "    <tr>\n",
        "      <th>ORH</th>\n",
        "      <td> 3238</td>\n",
        "    </tr>\n",
        "    <tr>\n",
        "      <th>OLH</th>\n",
        "      <td> 2823</td>\n",
        "    </tr>\n",
        "    <tr>\n",
        "      <th>MOH</th>\n",
        "      <td> 2439</td>\n",
        "    </tr>\n",
        "  </tbody>\n",
        "</table>\n",
        "<p>3 rows \u00d7 1 columns</p>\n",
        "</div>"
       ],
       "metadata": {},
       "output_type": "pyout",
       "prompt_number": 108,
       "text": [
        "     Transfer In Requests\n",
        "ORH                  3238\n",
        "OLH                  2823\n",
        "MOH                  2439\n",
        "\n",
        "[3 rows x 1 columns]"
       ]
      }
     ],
     "prompt_number": 108
    },
    {
     "cell_type": "markdown",
     "metadata": {},
     "source": [
      "## 2. Which school received the most requests to leave (via Transfer to another school)? \n",
      "\n",
      "As seen in the table below, CPH received the most requests to transfer out of the school, followed by CPM and SOH. These included all requests whether accepted, denied or pending."
     ]
    },
    {
     "cell_type": "code",
     "collapsed": false,
     "input": [
      "origin = df.groupby('origin').size()\n",
      "df2 = pd.DataFrame({'Transfer Out Requests': pd.Series(origin)})\n",
      "print \"Table sorted by 'Transfer Out Requests'\"\n",
      "df2.sort('Transfer Out Requests',ascending=False).dropna().head(3)"
     ],
     "language": "python",
     "metadata": {},
     "outputs": [
      {
       "output_type": "stream",
       "stream": "stdout",
       "text": [
        "Table sorted by 'Transfer Out Requests'\n"
       ]
      },
      {
       "html": [
        "<div style=\"max-height:1000px;max-width:1500px;overflow:auto;\">\n",
        "<table border=\"1\" class=\"dataframe\">\n",
        "  <thead>\n",
        "    <tr style=\"text-align: right;\">\n",
        "      <th></th>\n",
        "      <th>Transfer Out Requests</th>\n",
        "    </tr>\n",
        "    <tr>\n",
        "      <th>origin</th>\n",
        "      <th></th>\n",
        "    </tr>\n",
        "  </thead>\n",
        "  <tbody>\n",
        "    <tr>\n",
        "      <th>CPH</th>\n",
        "      <td> 2893</td>\n",
        "    </tr>\n",
        "    <tr>\n",
        "      <th>CPM</th>\n",
        "      <td> 2705</td>\n",
        "    </tr>\n",
        "    <tr>\n",
        "      <th>SOH</th>\n",
        "      <td> 2423</td>\n",
        "    </tr>\n",
        "  </tbody>\n",
        "</table>\n",
        "<p>3 rows \u00d7 1 columns</p>\n",
        "</div>"
       ],
       "metadata": {},
       "output_type": "pyout",
       "prompt_number": 94,
       "text": [
        "        Transfer Out Requests\n",
        "origin                       \n",
        "CPH                      2893\n",
        "CPM                      2705\n",
        "SOH                      2423\n",
        "\n",
        "[3 rows x 1 columns]"
       ]
      }
     ],
     "prompt_number": 94
    },
    {
     "cell_type": "markdown",
     "metadata": {},
     "source": [
      "## 3. Which school accepted the most transfers?\n",
      "\n",
      "ORH accepted the highest amount of incoming transfers students, followed by OLH and MOH"
     ]
    },
    {
     "cell_type": "code",
     "collapsed": false,
     "input": [
      "approved = df.status == 'Approved'\n",
      "dfapp = df[approved]\n",
      "\n",
      "new = dfapp.groupby(['dest']).size()\n",
      "stat = pd.DataFrame({'Accepted Transfers': pd.Series(new)})\n",
      "rank = stat.sort('Accepted Transfers', ascending=False)\n",
      "print \"Table sorted by 'Accepted Transfers'\"\n",
      "rank.head(3)"
     ],
     "language": "python",
     "metadata": {},
     "outputs": [
      {
       "output_type": "stream",
       "stream": "stdout",
       "text": [
        "Table sorted by 'Accepted Transfers'\n"
       ]
      },
      {
       "html": [
        "<div style=\"max-height:1000px;max-width:1500px;overflow:auto;\">\n",
        "<table border=\"1\" class=\"dataframe\">\n",
        "  <thead>\n",
        "    <tr style=\"text-align: right;\">\n",
        "      <th></th>\n",
        "      <th>Accepted Transfers</th>\n",
        "    </tr>\n",
        "    <tr>\n",
        "      <th>dest</th>\n",
        "      <th></th>\n",
        "    </tr>\n",
        "  </thead>\n",
        "  <tbody>\n",
        "    <tr>\n",
        "      <th>ORH</th>\n",
        "      <td> 2996</td>\n",
        "    </tr>\n",
        "    <tr>\n",
        "      <th>OLH</th>\n",
        "      <td> 2693</td>\n",
        "    </tr>\n",
        "    <tr>\n",
        "      <th>MOH</th>\n",
        "      <td> 2344</td>\n",
        "    </tr>\n",
        "  </tbody>\n",
        "</table>\n",
        "<p>3 rows \u00d7 1 columns</p>\n",
        "</div>"
       ],
       "metadata": {},
       "output_type": "pyout",
       "prompt_number": 68,
       "text": [
        "      Accepted Transfers\n",
        "dest                    \n",
        "ORH                 2996\n",
        "OLH                 2693\n",
        "MOH                 2344\n",
        "\n",
        "[3 rows x 1 columns]"
       ]
      }
     ],
     "prompt_number": 68
    },
    {
     "cell_type": "markdown",
     "metadata": {},
     "source": [
      "## 4. Which school denied the most transfers?\n",
      "\n",
      "Considering both incoming and outgoing transfer requests, RDM has the highest percent of denied transfers. However, if we were to consider raw numbers, CPM has the highest quantity of transfer requests denies."
     ]
    },
    {
     "cell_type": "code",
     "collapsed": false,
     "input": [
      "dest = df.groupby('dest').size()\n",
      "destden = df[df.status == \"Denied\"].groupby('dest').id.count()\n",
      "orig = df.groupby('origin').size()\n",
      "origden = df[df.status == \"Denied\"].groupby('origin').id.count()\n",
      "\n",
      "flow = pd.DataFrame({'Total Requests': pd.Series(dest+orig),\n",
      "                      'Transfers Denied': pd.Series(destden+origden)\n",
      "                      })\n",
      "\n",
      "denial_rate = ((flow['Transfers Denied'])/flow['Total Requests'])*100\n",
      "flow['% Denied'] = pd.Series(denial_rate)\n",
      "\n",
      "print \"Table sorted by '% Denied'\"\n",
      "flow.sort('% Denied',ascending=False).dropna().head(3)"
     ],
     "language": "python",
     "metadata": {},
     "outputs": [
      {
       "output_type": "stream",
       "stream": "stdout",
       "text": [
        "Table sorted by '% Denied'\n"
       ]
      },
      {
       "html": [
        "<div style=\"max-height:1000px;max-width:1500px;overflow:auto;\">\n",
        "<table border=\"1\" class=\"dataframe\">\n",
        "  <thead>\n",
        "    <tr style=\"text-align: right;\">\n",
        "      <th></th>\n",
        "      <th>Total Requests</th>\n",
        "      <th>Transfers Denied</th>\n",
        "      <th>% Denied</th>\n",
        "    </tr>\n",
        "  </thead>\n",
        "  <tbody>\n",
        "    <tr>\n",
        "      <th>RDM</th>\n",
        "      <td> 2136</td>\n",
        "      <td> 465</td>\n",
        "      <td> 21.769663</td>\n",
        "    </tr>\n",
        "    <tr>\n",
        "      <th>ELM</th>\n",
        "      <td> 1110</td>\n",
        "      <td> 201</td>\n",
        "      <td> 18.108108</td>\n",
        "    </tr>\n",
        "    <tr>\n",
        "      <th>CPM</th>\n",
        "      <td> 3182</td>\n",
        "      <td> 492</td>\n",
        "      <td> 15.461974</td>\n",
        "    </tr>\n",
        "  </tbody>\n",
        "</table>\n",
        "<p>3 rows \u00d7 3 columns</p>\n",
        "</div>"
       ],
       "metadata": {},
       "output_type": "pyout",
       "prompt_number": 67,
       "text": [
        "     Total Requests  Transfers Denied   % Denied\n",
        "RDM            2136               465  21.769663\n",
        "ELM            1110               201  18.108108\n",
        "CPM            3182               492  15.461974\n",
        "\n",
        "[3 rows x 3 columns]"
       ]
      }
     ],
     "prompt_number": 67
    },
    {
     "cell_type": "code",
     "collapsed": false,
     "input": [
      "print \"Table sorted by 'Transfers Denied'\"\n",
      "flow.sort('Transfers Denied',ascending=False).dropna().head(3)"
     ],
     "language": "python",
     "metadata": {},
     "outputs": [
      {
       "output_type": "stream",
       "stream": "stdout",
       "text": [
        "Table sorted by 'Transfers Denied'\n"
       ]
      },
      {
       "html": [
        "<div style=\"max-height:1000px;max-width:1500px;overflow:auto;\">\n",
        "<table border=\"1\" class=\"dataframe\">\n",
        "  <thead>\n",
        "    <tr style=\"text-align: right;\">\n",
        "      <th></th>\n",
        "      <th>Total Requests</th>\n",
        "      <th>Transfers Denied</th>\n",
        "      <th>% Denied</th>\n",
        "    </tr>\n",
        "  </thead>\n",
        "  <tbody>\n",
        "    <tr>\n",
        "      <th>CPM</th>\n",
        "      <td> 3182</td>\n",
        "      <td> 492</td>\n",
        "      <td> 15.461974</td>\n",
        "    </tr>\n",
        "    <tr>\n",
        "      <th>RDM</th>\n",
        "      <td> 2136</td>\n",
        "      <td> 465</td>\n",
        "      <td> 21.769663</td>\n",
        "    </tr>\n",
        "    <tr>\n",
        "      <th>CVH</th>\n",
        "      <td> 2730</td>\n",
        "      <td> 395</td>\n",
        "      <td> 14.468864</td>\n",
        "    </tr>\n",
        "  </tbody>\n",
        "</table>\n",
        "<p>3 rows \u00d7 3 columns</p>\n",
        "</div>"
       ],
       "metadata": {},
       "output_type": "pyout",
       "prompt_number": 66,
       "text": [
        "     Total Requests  Transfers Denied   % Denied\n",
        "CPM            3182               492  15.461974\n",
        "RDM            2136               465  21.769663\n",
        "CVH            2730               395  14.468864\n",
        "\n",
        "[3 rows x 3 columns]"
       ]
      }
     ],
     "prompt_number": 66
    },
    {
     "cell_type": "markdown",
     "metadata": {},
     "source": [
      "## 5. Which school received the most amount of transfer requests?\n",
      "\n",
      "ORH -- See question #1"
     ]
    },
    {
     "cell_type": "markdown",
     "metadata": {},
     "source": [
      "## 6. Which school received the least amount of transfer requests?\n"
     ]
    },
    {
     "cell_type": "markdown",
     "metadata": {},
     "source": [
      "We disregard the first 10 records as clerical errors, and conclude that SAILS received the least amount of transfer requests, followed by ELM"
     ]
    },
    {
     "cell_type": "code",
     "collapsed": false,
     "input": [
      "notsameschool = df.dest != df.origin\n",
      "df=df[notsameschool]\n",
      "\n",
      "dest = df.groupby('dest').size()\n",
      "orig = df.groupby('origin').size()\n",
      "\n",
      "count = pd.DataFrame({'Transfer In Requests': pd.Series(dest),\n",
      "                      'Transfer Out Requests': pd.Series(orig)\n",
      "                      })\n",
      "count = count.fillna(0)\n",
      "count['Total Requests'] = count['Transfer In Requests']+count['Transfer Out Requests']\n",
      "count = count.sort('Total Requests',ascending=True).dropna()\n",
      "count = count[['Total Requests','Transfer In Requests','Transfer Out Requests']]\n",
      "print \"Table sorted by 'Total Requests'\"\n",
      "count.head(20)"
     ],
     "language": "python",
     "metadata": {},
     "outputs": [
      {
       "output_type": "stream",
       "stream": "stdout",
       "text": [
        "Table sorted by 'Total Requests'\n"
       ]
      },
      {
       "html": [
        "<div style=\"max-height:1000px;max-width:1500px;overflow:auto;\">\n",
        "<table border=\"1\" class=\"dataframe\">\n",
        "  <thead>\n",
        "    <tr style=\"text-align: right;\">\n",
        "      <th></th>\n",
        "      <th>Total Requests</th>\n",
        "      <th>Transfer In Requests</th>\n",
        "      <th>Transfer Out Requests</th>\n",
        "    </tr>\n",
        "  </thead>\n",
        "  <tbody>\n",
        "    <tr>\n",
        "      <th>???</th>\n",
        "      <td>    1</td>\n",
        "      <td>    0</td>\n",
        "      <td>    1</td>\n",
        "    </tr>\n",
        "    <tr>\n",
        "      <th>AVA</th>\n",
        "      <td>    1</td>\n",
        "      <td>    0</td>\n",
        "      <td>    1</td>\n",
        "    </tr>\n",
        "    <tr>\n",
        "      <th>B</th>\n",
        "      <td>    1</td>\n",
        "      <td>    0</td>\n",
        "      <td>    1</td>\n",
        "    </tr>\n",
        "    <tr>\n",
        "      <th>BVH/ORH</th>\n",
        "      <td>    1</td>\n",
        "      <td>    0</td>\n",
        "      <td>    1</td>\n",
        "    </tr>\n",
        "    <tr>\n",
        "      <th>BVM/ELM</th>\n",
        "      <td>    1</td>\n",
        "      <td>    0</td>\n",
        "      <td>    1</td>\n",
        "    </tr>\n",
        "    <tr>\n",
        "      <th>CV</th>\n",
        "      <td>    1</td>\n",
        "      <td>    0</td>\n",
        "      <td>    1</td>\n",
        "    </tr>\n",
        "    <tr>\n",
        "      <th>MV</th>\n",
        "      <td>    1</td>\n",
        "      <td>    0</td>\n",
        "      <td>    1</td>\n",
        "    </tr>\n",
        "    <tr>\n",
        "      <th>EL</th>\n",
        "      <td>    1</td>\n",
        "      <td>    0</td>\n",
        "      <td>    1</td>\n",
        "    </tr>\n",
        "    <tr>\n",
        "      <th>MHV</th>\n",
        "      <td>    1</td>\n",
        "      <td>    0</td>\n",
        "      <td>    1</td>\n",
        "    </tr>\n",
        "    <tr>\n",
        "      <th>BVH/ELH</th>\n",
        "      <td>    8</td>\n",
        "      <td>    0</td>\n",
        "      <td>    8</td>\n",
        "    </tr>\n",
        "    <tr>\n",
        "      <th>SAILS</th>\n",
        "      <td>   75</td>\n",
        "      <td>   75</td>\n",
        "      <td>    0</td>\n",
        "    </tr>\n",
        "    <tr>\n",
        "      <th>ELM</th>\n",
        "      <td>  906</td>\n",
        "      <td>  591</td>\n",
        "      <td>  315</td>\n",
        "    </tr>\n",
        "    <tr>\n",
        "      <th>MVM</th>\n",
        "      <td>  941</td>\n",
        "      <td>  310</td>\n",
        "      <td>  631</td>\n",
        "    </tr>\n",
        "    <tr>\n",
        "      <th>NCM</th>\n",
        "      <td>  944</td>\n",
        "      <td>  479</td>\n",
        "      <td>  465</td>\n",
        "    </tr>\n",
        "    <tr>\n",
        "      <th>SOM</th>\n",
        "      <td>  982</td>\n",
        "      <td>  341</td>\n",
        "      <td>  641</td>\n",
        "    </tr>\n",
        "    <tr>\n",
        "      <th>MOM</th>\n",
        "      <td> 1332</td>\n",
        "      <td>  499</td>\n",
        "      <td>  833</td>\n",
        "    </tr>\n",
        "    <tr>\n",
        "      <th>GJH</th>\n",
        "      <td> 1490</td>\n",
        "      <td>  398</td>\n",
        "      <td> 1092</td>\n",
        "    </tr>\n",
        "    <tr>\n",
        "      <th>SUH</th>\n",
        "      <td> 1555</td>\n",
        "      <td>  827</td>\n",
        "      <td>  728</td>\n",
        "    </tr>\n",
        "    <tr>\n",
        "      <th>RDM</th>\n",
        "      <td> 1659</td>\n",
        "      <td> 1148</td>\n",
        "      <td>  511</td>\n",
        "    </tr>\n",
        "    <tr>\n",
        "      <th>BVM</th>\n",
        "      <td> 1682</td>\n",
        "      <td> 1274</td>\n",
        "      <td>  408</td>\n",
        "    </tr>\n",
        "  </tbody>\n",
        "</table>\n",
        "<p>20 rows \u00d7 3 columns</p>\n",
        "</div>"
       ],
       "metadata": {},
       "output_type": "pyout",
       "prompt_number": 158,
       "text": [
        "         Total Requests  Transfer In Requests  Transfer Out Requests\n",
        "???                   1                     0                      1\n",
        "AVA                   1                     0                      1\n",
        "B                     1                     0                      1\n",
        "BVH/ORH               1                     0                      1\n",
        "BVM/ELM               1                     0                      1\n",
        "CV                    1                     0                      1\n",
        "MV                    1                     0                      1\n",
        "EL                    1                     0                      1\n",
        "MHV                   1                     0                      1\n",
        "BVH/ELH               8                     0                      8\n",
        "SAILS                75                    75                      0\n",
        "ELM                 906                   591                    315\n",
        "MVM                 941                   310                    631\n",
        "NCM                 944                   479                    465\n",
        "SOM                 982                   341                    641\n",
        "MOM                1332                   499                    833\n",
        "GJH                1490                   398                   1092\n",
        "SUH                1555                   827                    728\n",
        "RDM                1659                  1148                    511\n",
        "BVM                1682                  1274                    408\n",
        "\n",
        "[20 rows x 3 columns]"
       ]
      }
     ],
     "prompt_number": 158
    },
    {
     "cell_type": "markdown",
     "metadata": {},
     "source": [
      "## 7. What\u2019s the most popular / least popular school?"
     ]
    },
    {
     "cell_type": "markdown",
     "metadata": {},
     "source": [
      "For the purpose of this question, we'll define popularity as net transferring students. \n",
      "    \n",
      "    Net = Incoming Transfers - Outgoing Transfers\n",
      "\n",
      "If net is large, then school is popular."
     ]
    },
    {
     "cell_type": "code",
     "collapsed": false,
     "input": [
      "df = df[df.status == 'Approved']\n",
      "transIN = df.groupby(['dest']).size()\n",
      "transOUT = df.groupby(['origin']).size()\n",
      "transNET = transIN - transOUT\n",
      "\n",
      "transfers = pd.DataFrame({'Net': pd.Series(transNET),\n",
      "                        'Arrive': pd.Series(transIN),\n",
      "                        'Depart': pd.Series(transOUT)\n",
      "                        }).dropna().sort('Net',ascending=False)"
     ],
     "language": "python",
     "metadata": {},
     "outputs": [],
     "prompt_number": 119
    },
    {
     "cell_type": "markdown",
     "metadata": {},
     "source": [
      "### Most popular school award goes to ORH."
     ]
    },
    {
     "cell_type": "code",
     "collapsed": false,
     "input": [
      "transfers.head(3).plot(kind='bar', colormap='Accent')\n",
      "transfers.head(3)"
     ],
     "language": "python",
     "metadata": {},
     "outputs": [
      {
       "html": [
        "<div style=\"max-height:1000px;max-width:1500px;overflow:auto;\">\n",
        "<table border=\"1\" class=\"dataframe\">\n",
        "  <thead>\n",
        "    <tr style=\"text-align: right;\">\n",
        "      <th></th>\n",
        "      <th>Arrive</th>\n",
        "      <th>Depart</th>\n",
        "      <th>Net</th>\n",
        "    </tr>\n",
        "  </thead>\n",
        "  <tbody>\n",
        "    <tr>\n",
        "      <th>ORH</th>\n",
        "      <td> 2996</td>\n",
        "      <td> 1875</td>\n",
        "      <td> 1121</td>\n",
        "    </tr>\n",
        "    <tr>\n",
        "      <th>OLH</th>\n",
        "      <td> 2693</td>\n",
        "      <td> 1792</td>\n",
        "      <td>  901</td>\n",
        "    </tr>\n",
        "    <tr>\n",
        "      <th>HTM</th>\n",
        "      <td> 1793</td>\n",
        "      <td>  907</td>\n",
        "      <td>  886</td>\n",
        "    </tr>\n",
        "  </tbody>\n",
        "</table>\n",
        "<p>3 rows \u00d7 3 columns</p>\n",
        "</div>"
       ],
       "metadata": {},
       "output_type": "pyout",
       "prompt_number": 125,
       "text": [
        "     Arrive  Depart   Net\n",
        "ORH    2996    1875  1121\n",
        "OLH    2693    1792   901\n",
        "HTM    1793     907   886\n",
        "\n",
        "[3 rows x 3 columns]"
       ]
      },
      {
       "metadata": {},
       "output_type": "display_data",
       "png": "[encoded data removed]",
       "text": [
        "<matplotlib.figure.Figure at 0x10e291290>"
       ]
      }
     ],
     "prompt_number": 125
    },
    {
     "cell_type": "markdown",
     "metadata": {},
     "source": [
      "### \"Least Popular\" School award goes to: CPM"
     ]
    },
    {
     "cell_type": "code",
     "collapsed": false,
     "input": [
      "least=transfers.tail(3).sort('Net',ascending=True)\n",
      "plot=least.tail(3).plot(kind='bar',colormap='Accent')\n",
      "plot.legend(loc='center left', bbox_to_anchor=(1, 0.5))\n"
     ],
     "language": "python",
     "metadata": {},
     "outputs": [
      {
       "metadata": {},
       "output_type": "pyout",
       "prompt_number": 132,
       "text": [
        "<matplotlib.legend.Legend at 0x10e267410>"
       ]
      },
      {
       "metadata": {},
       "output_type": "display_data",
       "png": "[encoded data removed]",
       "text": [
        "<matplotlib.figure.Figure at 0x10e267210>"
       ]
      }
     ],
     "prompt_number": 132
    },
    {
     "cell_type": "markdown",
     "metadata": {},
     "source": [
      "However, CPH has the highest exodus of students in Sweetwater."
     ]
    }
   ],
   "metadata": {}
  }
 ]
}